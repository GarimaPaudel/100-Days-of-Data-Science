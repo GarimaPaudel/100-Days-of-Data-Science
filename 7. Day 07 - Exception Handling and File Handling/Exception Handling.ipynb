{
 "cells": [
  {
   "cell_type": "code",
   "execution_count": 1,
   "id": "8158edb6",
   "metadata": {},
   "outputs": [
    {
     "name": "stdout",
     "output_type": "stream",
     "text": [
      "Enter the number: abc\n",
      "Multiplication table of abc is: \n",
      "invalid literal for int() with base 10: 'abc'\n",
      "Lines after exception\n",
      "Lines after exception\n"
     ]
    }
   ],
   "source": [
    "a = input(\"Enter the number: \")\n",
    "print(f\"Multiplication table of {a} is: \")\n",
    "\n",
    "try:\n",
    "     \n",
    "    for i in range(1,11):\n",
    "        print(f\"{int(a)} * {i} = {int(a)*i}\")\n",
    "except Exception as e:\n",
    "    print(e)\n",
    "    \n",
    "    \n",
    "print(\"Lines after exception\")\n",
    "print(\"Lines after exception\")"
   ]
  },
  {
   "cell_type": "code",
   "execution_count": 2,
   "id": "b210bd53",
   "metadata": {},
   "outputs": [
    {
     "name": "stdout",
     "output_type": "stream",
     "text": [
      "Enter an integer: xyz\n",
      "Number entered is not an integer\n"
     ]
    }
   ],
   "source": [
    "#Value Error\n",
    "try:\n",
    "    num = int(input(\"Enter an integer: \"))\n",
    "except:\n",
    "    print(\"Number entered is not an integer\")"
   ]
  },
  {
   "cell_type": "code",
   "execution_count": 3,
   "id": "c7824611",
   "metadata": {},
   "outputs": [
    {
     "name": "stdout",
     "output_type": "stream",
     "text": [
      "Index out of range\n"
     ]
    }
   ],
   "source": [
    "#Index Error\n",
    "try:\n",
    "    a = [6,3]\n",
    "    print(a[3])\n",
    "except:\n",
    "    print(\"Index out of range\")"
   ]
  },
  {
   "cell_type": "code",
   "execution_count": 4,
   "id": "2486b771",
   "metadata": {},
   "outputs": [
    {
     "name": "stdout",
     "output_type": "stream",
     "text": [
      "Enter the index: 5\n",
      "Some error occurred\n",
      "I am always executed\n"
     ]
    }
   ],
   "source": [
    "#finally clause\n",
    "try:\n",
    "    l = [1,5,6,7]\n",
    "    i = int(input(\"Enter the index: \"))\n",
    "    print(l[i])\n",
    "except:\n",
    "    print(\"Some error occurred\")\n",
    "finally:\n",
    "    print(\"I am always executed\")"
   ]
  },
  {
   "cell_type": "code",
   "execution_count": 5,
   "id": "4c1d8e89",
   "metadata": {},
   "outputs": [
    {
     "name": "stdout",
     "output_type": "stream",
     "text": [
      "Enter a number: 0\n",
      "Second argument to a division or modulo operation was zero.\n",
      "Finally block\n"
     ]
    }
   ],
   "source": [
    "try:\n",
    "    n = int(input(\"Enter a number: \"))\n",
    "    div = 10 / n\n",
    "except ZeroDivisionError:\n",
    "    print(ZeroDivisionError.__doc__)\n",
    "finally:\n",
    "    print(\"Finally block\")"
   ]
  },
  {
   "cell_type": "code",
   "execution_count": 6,
   "id": "4ada590f",
   "metadata": {},
   "outputs": [
    {
     "name": "stdout",
     "output_type": "stream",
     "text": [
      "Enter a number: abc\n",
      "Invalid input. Please enter a valid number.\n"
     ]
    }
   ],
   "source": [
    "#else clause\n",
    "try:\n",
    "    num = int(input(\"Enter a number: \"))\n",
    "except ValueError:\n",
    "    print(\"Invalid input. Please enter a valid number.\")\n",
    "else:\n",
    "    print(f\"Entered number: {num}\")"
   ]
  },
  {
   "cell_type": "code",
   "execution_count": 7,
   "id": "e1ddd77b",
   "metadata": {},
   "outputs": [
    {
     "name": "stdout",
     "output_type": "stream",
     "text": [
      "Enter a number: 5\n",
      "Entered number: 5\n"
     ]
    }
   ],
   "source": [
    "try:\n",
    "    num = int(input(\"Enter a number: \"))\n",
    "except ValueError:\n",
    "    print(\"Invalid input. Please enter a valid number.\")\n",
    "else:\n",
    "    print(f\"Entered number: {num}\")"
   ]
  },
  {
   "cell_type": "code",
   "execution_count": 8,
   "id": "49e88bd2",
   "metadata": {},
   "outputs": [
    {
     "name": "stdout",
     "output_type": "stream",
     "text": [
      "Enter your age: 15\n"
     ]
    },
    {
     "ename": "ValueError",
     "evalue": "Age less than 18",
     "output_type": "error",
     "traceback": [
      "\u001b[1;31m---------------------------------------------------------------------------\u001b[0m",
      "\u001b[1;31mValueError\u001b[0m                                Traceback (most recent call last)",
      "Cell \u001b[1;32mIn[8], line 8\u001b[0m\n\u001b[0;32m      5\u001b[0m     \u001b[38;5;28;01mif\u001b[39;00m age\u001b[38;5;241m<\u001b[39m\u001b[38;5;241m18\u001b[39m:\n\u001b[0;32m      6\u001b[0m         \u001b[38;5;28;01mraise\u001b[39;00m \u001b[38;5;167;01mValueError\u001b[39;00m(\u001b[38;5;124m\"\u001b[39m\u001b[38;5;124mAge less than 18\u001b[39m\u001b[38;5;124m\"\u001b[39m)\n\u001b[1;32m----> 8\u001b[0m \u001b[43mvote\u001b[49m\u001b[43m(\u001b[49m\u001b[43m)\u001b[49m\n",
      "Cell \u001b[1;32mIn[8], line 6\u001b[0m, in \u001b[0;36mvote\u001b[1;34m()\u001b[0m\n\u001b[0;32m      3\u001b[0m age \u001b[38;5;241m=\u001b[39m \u001b[38;5;28mint\u001b[39m(\u001b[38;5;28minput\u001b[39m(\u001b[38;5;124m\"\u001b[39m\u001b[38;5;124mEnter your age: \u001b[39m\u001b[38;5;124m\"\u001b[39m))\n\u001b[0;32m      5\u001b[0m \u001b[38;5;28;01mif\u001b[39;00m age\u001b[38;5;241m<\u001b[39m\u001b[38;5;241m18\u001b[39m:\n\u001b[1;32m----> 6\u001b[0m     \u001b[38;5;28;01mraise\u001b[39;00m \u001b[38;5;167;01mValueError\u001b[39;00m(\u001b[38;5;124m\"\u001b[39m\u001b[38;5;124mAge less than 18\u001b[39m\u001b[38;5;124m\"\u001b[39m)\n",
      "\u001b[1;31mValueError\u001b[0m: Age less than 18"
     ]
    }
   ],
   "source": [
    "# Raising Exceptions:\n",
    "def vote():\n",
    "    age = int(input(\"Enter your age: \"))\n",
    "    \n",
    "    if age<18:\n",
    "        raise ValueError(\"Age less than 18\")\n",
    "          \n",
    "vote()"
   ]
  },
  {
   "cell_type": "code",
   "execution_count": 9,
   "id": "b49278a1",
   "metadata": {},
   "outputs": [
    {
     "name": "stdout",
     "output_type": "stream",
     "text": [
      "Enter a number: -5\n",
      "Custom Exception: Invalid data: Data cannot be negative\n"
     ]
    }
   ],
   "source": [
    "# Custom Exceptions\n",
    "class MyCustomError(Exception):\n",
    "    \n",
    "    def __init__(self, message):\n",
    "        self.message = message\n",
    "        super().__init__(self.message)\n",
    "\n",
    "def process_data(data):\n",
    "    if data<0:\n",
    "        raise MyCustomError(\"Invalid data: Data cannot be negative\")\n",
    "        \n",
    "try:\n",
    "    value = int(input(\"Enter a number: \"))\n",
    "    process_data(value)\n",
    "except ValueError:\n",
    "    print(\"Invalid input. Please enter a valid number.\")\n",
    "except MyCustomError as e:\n",
    "    print(f\"Custom Exception: {e}\")"
   ]
  },
  {
   "cell_type": "code",
   "execution_count": 10,
   "id": "5a5964a2",
   "metadata": {},
   "outputs": [
    {
     "name": "stdout",
     "output_type": "stream",
     "text": [
      "Enter a number: 0\n",
      "Cannot divide by zero.\n"
     ]
    }
   ],
   "source": [
    "#Multiple Except Clauses:\n",
    "try:\n",
    "    value = int(input(\"Enter a number: \"))\n",
    "    print(10/value)\n",
    "except ValueError:\n",
    "    print(\"Invalid input. Please enter a valid number.\")\n",
    "except ZeroDivisionError:\n",
    "    print(\"Cannot divide by zero.\")"
   ]
  },
  {
   "cell_type": "code",
   "execution_count": 11,
   "id": "b5eff662",
   "metadata": {},
   "outputs": [
    {
     "name": "stdout",
     "output_type": "stream",
     "text": [
      "Enter a number: zero\n",
      "Invalid input. Please enter a valid number.\n"
     ]
    }
   ],
   "source": [
    "try:\n",
    "    value = int(input(\"Enter a number: \"))\n",
    "    print(10/value)\n",
    "    \n",
    "except ValueError:\n",
    "    print(\"Invalid input. Please enter a valid number.\")\n",
    "except ZeroDivisionError:\n",
    "    print(\"Cannot divide by zero.\")"
   ]
  },
  {
   "cell_type": "code",
   "execution_count": null,
   "id": "4e8cea0b",
   "metadata": {},
   "outputs": [],
   "source": []
  }
 ],
 "metadata": {
  "kernelspec": {
   "display_name": "Python 3 (ipykernel)",
   "language": "python",
   "name": "python3"
  },
  "language_info": {
   "codemirror_mode": {
    "name": "ipython",
    "version": 3
   },
   "file_extension": ".py",
   "mimetype": "text/x-python",
   "name": "python",
   "nbconvert_exporter": "python",
   "pygments_lexer": "ipython3",
   "version": "3.10.9"
  }
 },
 "nbformat": 4,
 "nbformat_minor": 5
}
