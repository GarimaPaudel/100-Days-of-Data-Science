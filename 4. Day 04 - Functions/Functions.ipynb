{
 "cells": [
  {
   "cell_type": "markdown",
   "id": "917500c6",
   "metadata": {},
   "source": [
    "## Functions\n",
    "- makes code more readable\n",
    "- more efficient\n",
    "- more maintainable\n",
    "- more reusable and\n",
    "- more extensible"
   ]
  },
  {
   "cell_type": "code",
   "execution_count": 1,
   "id": "c3764826",
   "metadata": {},
   "outputs": [
    {
     "name": "stdout",
     "output_type": "stream",
     "text": [
      "Learning Python for Data Science\n"
     ]
    }
   ],
   "source": [
    "def func1():\n",
    "    print(\"Learning Python for Data Science\")\n",
    "func1()"
   ]
  },
  {
   "cell_type": "code",
   "execution_count": 2,
   "id": "646acede",
   "metadata": {},
   "outputs": [
    {
     "name": "stdout",
     "output_type": "stream",
     "text": [
      "Learning Python for Data Science\n"
     ]
    }
   ],
   "source": [
    "def func2():\n",
    " \n",
    "    return \"Learning Python for Data Science\"\n",
    "txt = func2()\n",
    "print (txt)"
   ]
  },
  {
   "cell_type": "code",
   "execution_count": 3,
   "id": "4acbdeda",
   "metadata": {},
   "outputs": [
    {
     "data": {
      "text/plain": [
       "'Welcome to my Github profile'"
      ]
     },
     "execution_count": 3,
     "metadata": {},
     "output_type": "execute_result"
    }
   ],
   "source": [
    "def welcome() -> str:\n",
    "    return \"Welcome to my Github profile\"\n",
    "welcome()"
   ]
  },
  {
   "cell_type": "code",
   "execution_count": 4,
   "id": "81c19ff2",
   "metadata": {},
   "outputs": [],
   "source": [
    "# Arguments"
   ]
  },
  {
   "cell_type": "code",
   "execution_count": 5,
   "id": "fa9e7d2e",
   "metadata": {},
   "outputs": [
    {
     "name": "stdout",
     "output_type": "stream",
     "text": [
      "Hello world\n"
     ]
    }
   ],
   "source": [
    "def welcome(msg) -> str:\n",
    "    return msg\n",
    "print(welcome(\"Hello world\"))"
   ]
  },
  {
   "cell_type": "code",
   "execution_count": 6,
   "id": "f6eda397",
   "metadata": {},
   "outputs": [
    {
     "name": "stdout",
     "output_type": "stream",
     "text": [
      "Even sum is: 42 \n",
      "Odd sum is: 36\n"
     ]
    }
   ],
   "source": [
    "# function to add even and odd number\n",
    "def even_odd_sum(lst):\n",
    "    even_sum = 0\n",
    "    odd_sum = 0\n",
    "    for i in lst:\n",
    "        if i%2 == 0:\n",
    "            even_sum+=i\n",
    "        else:\n",
    "            odd_sum+=i\n",
    "    return even_sum, odd_sum\n",
    "esum , osum = even_odd_sum([1,2,3,4,5,6,7,8,9,10,11,12])\n",
    "print(\"Even sum is: {} \\nOdd sum is: {}\".format(esum,osum))"
   ]
  },
  {
   "cell_type": "markdown",
   "id": "4092d38a",
   "metadata": {},
   "source": [
    "### Types of Python Function Arguments\n",
    "- Positional arguments\n",
    "- Default argument\n",
    "- Keyword arguments (named arguments)\n",
    "- Arbitary arguments (arbitary positional and arbitary keyword)"
   ]
  },
  {
   "cell_type": "markdown",
   "id": "514fc197",
   "metadata": {},
   "source": [
    "###### 1. Positional Arguments  \n",
    "   - argument should be in order\n",
    "   - incorrect output if argument not in order"
   ]
  },
  {
   "cell_type": "code",
   "execution_count": 7,
   "id": "811d113b",
   "metadata": {},
   "outputs": [
    {
     "name": "stdout",
     "output_type": "stream",
     "text": [
      "8\n"
     ]
    }
   ],
   "source": [
    "def add(a, b):\n",
    "    return a + b\n",
    "\n",
    "result = add(5, 3)\n",
    "print(result)"
   ]
  },
  {
   "cell_type": "markdown",
   "id": "098a5f94",
   "metadata": {},
   "source": [
    "###### 2. Default Arguments\n",
    "- \"=\" is used to assign a default value to the argument\n",
    "- Default arguments become optional during the function calls.\n",
    "- If we provide a value to the default arguments during function calls, it overrides the default value."
   ]
  },
  {
   "cell_type": "code",
   "execution_count": 8,
   "id": "9d7458ca",
   "metadata": {},
   "outputs": [
    {
     "name": "stdout",
     "output_type": "stream",
     "text": [
      "You are doing great, Garima Paudel\n"
     ]
    }
   ],
   "source": [
    "def myfunc(first_name, last_name= \"Paudel\"):\n",
    "    print(\"You are doing great, \" + first_name +\" \"+ last_name)\n",
    "myfunc( \"Garima\")\n",
    "    "
   ]
  },
  {
   "cell_type": "code",
   "execution_count": 9,
   "id": "e149492a",
   "metadata": {},
   "outputs": [
    {
     "name": "stdout",
     "output_type": "stream",
     "text": [
      "You are doing great, Garima Poudel\n"
     ]
    }
   ],
   "source": [
    "def myfunc(first_name, last_name= \"Paudel\"):\n",
    "    print(\"You are doing great, \" + first_name +\" \"+ last_name)\n",
    "myfunc( \"Garima\", \"Poudel\")\n",
    "    "
   ]
  },
  {
   "cell_type": "markdown",
   "id": "931ec9ac",
   "metadata": {},
   "source": [
    "###### 3. Keyword Arguments\n",
    "-  arguments with the key = value syntax.\n",
    "- unlike positional, we can give arguments in any order"
   ]
  },
  {
   "cell_type": "code",
   "execution_count": null,
   "id": "f31a2294",
   "metadata": {},
   "outputs": [],
   "source": []
  },
  {
   "cell_type": "code",
   "execution_count": 10,
   "id": "4d277b68",
   "metadata": {},
   "outputs": [
    {
     "name": "stdout",
     "output_type": "stream",
     "text": [
      "Name: Garima\n",
      " Age: 22 years \n",
      " Roll: 5 \n",
      "\n"
     ]
    }
   ],
   "source": [
    "def student(name, age, roll):\n",
    "    print(\"Name: \" + name + \"\\n Age: \"+ age + \" years \\n Roll: {} \\n\".format( roll))\n",
    "student(age = \"22\", name = \"Garima\", roll = 5)"
   ]
  },
  {
   "cell_type": "code",
   "execution_count": 11,
   "id": "004f3623",
   "metadata": {},
   "outputs": [
    {
     "name": "stdout",
     "output_type": "stream",
     "text": [
      "Name: Garima\n",
      " Age: 22 years \n",
      " Roll: 5 \n",
      "\n"
     ]
    }
   ],
   "source": [
    "def student(name, age, roll):\n",
    "    print(\"Name: \" + name + \"\\n Age: {} years \\n Roll: {} \\n\".format(age, roll))\n",
    "student(age = 22, name = \"Garima\", roll = 5)"
   ]
  },
  {
   "cell_type": "markdown",
   "id": "5ff8ff20",
   "metadata": {},
   "source": [
    "###### 4. Arbitary arguments\n",
    "- Arbitary positional arguments\n",
    "- Arbitary keywords arguments"
   ]
  },
  {
   "cell_type": "code",
   "execution_count": 12,
   "id": "66dbb973",
   "metadata": {},
   "outputs": [
    {
     "name": "stdout",
     "output_type": "stream",
     "text": [
      "('John', 'Nick', 'Marry', 'Harry')\n"
     ]
    }
   ],
   "source": [
    "# Arbitary positional\n",
    "def hello(*args):\n",
    "    print(args)\n",
    "hello(\"John\",\"Nick\",\"Marry\",\"Harry\")"
   ]
  },
  {
   "cell_type": "code",
   "execution_count": 13,
   "id": "d27b0163",
   "metadata": {},
   "outputs": [
    {
     "name": "stdout",
     "output_type": "stream",
     "text": [
      "{'name': 'John', 'age': 32}\n"
     ]
    }
   ],
   "source": [
    "# Arbitary keyword\n",
    "def student(**kwargs):\n",
    "    print(kwargs)\n",
    "student(name=\"John\", age = 32)"
   ]
  },
  {
   "cell_type": "code",
   "execution_count": 14,
   "id": "57c05822",
   "metadata": {},
   "outputs": [
    {
     "name": "stdout",
     "output_type": "stream",
     "text": [
      "10\n"
     ]
    }
   ],
   "source": [
    "# If you do not know how many keyword arguments that will be passed into your function, add two asterisk: ** before the parameter name in the function definition.\n",
    "def sum(**values):\n",
    "    print(values['a']  + values['b'])\n",
    "sum(a=4,b=6)"
   ]
  },
  {
   "cell_type": "code",
   "execution_count": 15,
   "id": "f3e5889b",
   "metadata": {},
   "outputs": [],
   "source": [
    "# The pass statement\n",
    "# function definitions cannot be empty, but if you for some reason have a function definition with no content,\n",
    "# put in the pass statement to avoid getting an error.\n",
    "def my_fun():\n",
    "    pass"
   ]
  },
  {
   "cell_type": "markdown",
   "id": "44bf6197",
   "metadata": {},
   "source": [
    "### Function Documentation\n",
    "- we can document our functions using docstrings(triple-quoted strings)\n",
    "- immediately following the function definition\n",
    "- helpful for other programmers (and yourself) to understand how to use the function."
   ]
  },
  {
   "cell_type": "code",
   "execution_count": 16,
   "id": "ec76ecc8",
   "metadata": {},
   "outputs": [
    {
     "name": "stdout",
     "output_type": "stream",
     "text": [
      "Hello, Garima!\n"
     ]
    }
   ],
   "source": [
    "def greet(name):\n",
    "    \"\"\"Prints a greeting message.\"\"\"\n",
    "    print(f\"Hello, {name}!\")\n",
    "greet(\"Garima\")"
   ]
  },
  {
   "cell_type": "code",
   "execution_count": 17,
   "id": "8006e48a",
   "metadata": {},
   "outputs": [
    {
     "name": "stdout",
     "output_type": "stream",
     "text": [
      "Prints a greeting message.\n"
     ]
    }
   ],
   "source": [
    "print(greet.__doc__)"
   ]
  },
  {
   "cell_type": "code",
   "execution_count": 18,
   "id": "05d4c9fa",
   "metadata": {},
   "outputs": [
    {
     "name": "stdout",
     "output_type": "stream",
     "text": [
      "Help on function greet in module __main__:\n",
      "\n",
      "greet(name)\n",
      "    Prints a greeting message.\n",
      "\n",
      "None\n"
     ]
    }
   ],
   "source": [
    "print(help(greet))"
   ]
  },
  {
   "cell_type": "markdown",
   "id": "4efb1692",
   "metadata": {},
   "source": [
    "### Variable Scope\n",
    "- Variables defined within a function have local scope \n",
    "- Variables defined outside of functions have global scope."
   ]
  },
  {
   "cell_type": "markdown",
   "id": "71412795",
   "metadata": {},
   "source": [
    "##### 1. Global Scope"
   ]
  },
  {
   "cell_type": "code",
   "execution_count": 19,
   "id": "d5737357",
   "metadata": {},
   "outputs": [
    {
     "name": "stdout",
     "output_type": "stream",
     "text": [
      "10\n",
      "10\n"
     ]
    }
   ],
   "source": [
    "global_variable = 10\n",
    "\n",
    "def my_function():\n",
    "    print(global_variable)\n",
    "my_function() \n",
    "\n",
    "print(global_variable)  \n"
   ]
  },
  {
   "cell_type": "markdown",
   "id": "97847089",
   "metadata": {},
   "source": [
    "##### 2. Local Scope"
   ]
  },
  {
   "cell_type": "code",
   "execution_count": 20,
   "id": "48c0d210",
   "metadata": {},
   "outputs": [
    {
     "name": "stdout",
     "output_type": "stream",
     "text": [
      "10\n",
      "10\n"
     ]
    }
   ],
   "source": [
    "global_variable = 10\n",
    "\n",
    "def my_function():\n",
    "    print(global_variable)\n",
    "\n",
    "my_function()  # Output: 10\n",
    "print(global_variable)  # Output: 10\n"
   ]
  },
  {
   "cell_type": "code",
   "execution_count": 21,
   "id": "638d44c9",
   "metadata": {},
   "outputs": [
    {
     "name": "stdout",
     "output_type": "stream",
     "text": [
      "20\n"
     ]
    },
    {
     "ename": "NameError",
     "evalue": "name 'local_variable' is not defined",
     "output_type": "error",
     "traceback": [
      "\u001b[1;31m---------------------------------------------------------------------------\u001b[0m",
      "\u001b[1;31mNameError\u001b[0m                                 Traceback (most recent call last)",
      "Cell \u001b[1;32mIn[21], line 6\u001b[0m\n\u001b[0;32m      3\u001b[0m     \u001b[38;5;28mprint\u001b[39m(local_variable)\n\u001b[0;32m      5\u001b[0m my_function()  \u001b[38;5;66;03m# Output: 20\u001b[39;00m\n\u001b[1;32m----> 6\u001b[0m \u001b[38;5;28mprint\u001b[39m(\u001b[43mlocal_variable\u001b[49m)\n",
      "\u001b[1;31mNameError\u001b[0m: name 'local_variable' is not defined"
     ]
    }
   ],
   "source": [
    "def my_function():\n",
    "    local_variable = 20\n",
    "    print(local_variable)\n",
    "\n",
    "my_function()  # Output: 20\n",
    "print(local_variable)  # This will raise an error\n"
   ]
  },
  {
   "cell_type": "markdown",
   "id": "53fe251d",
   "metadata": {},
   "source": [
    "##### 3. Accessing and Modifying Global Variables within a Function\n",
    "- To access a global variable from within a function, you need to use the global keyword to indicate that you're referring to the global variable and not creating a new local variable with the same name.\n",
    "- If you want to modify a global variable within a function, you again need to use the global keyword to indicate that you're modifying the global variable."
   ]
  },
  {
   "cell_type": "code",
   "execution_count": 22,
   "id": "86ef6aab",
   "metadata": {},
   "outputs": [
    {
     "name": "stdout",
     "output_type": "stream",
     "text": [
      "10\n",
      "15\n"
     ]
    }
   ],
   "source": [
    "global_variable = 10\n",
    "\n",
    "def my_function():\n",
    "    global global_variable\n",
    "    print(global_variable)\n",
    "    global_variable += 5\n",
    "    print(global_variable)\n",
    "\n",
    "my_function()  \n"
   ]
  },
  {
   "cell_type": "markdown",
   "id": "2d5f6a2c",
   "metadata": {},
   "source": [
    "##### 4. Nested Scope\n",
    "- If a function is defined within another function, the inner function has access to variables in its own local scope, as well as variables in the enclosing (outer) function's scope.\n"
   ]
  },
  {
   "cell_type": "code",
   "execution_count": 23,
   "id": "9d8ac70a",
   "metadata": {},
   "outputs": [
    {
     "name": "stdout",
     "output_type": "stream",
     "text": [
      "15\n"
     ]
    }
   ],
   "source": [
    "def outer_function():\n",
    "    outer_var = 5\n",
    "\n",
    "    def inner_function():\n",
    "        inner_var = 10\n",
    "        print(outer_var + inner_var)\n",
    "\n",
    "    inner_function()  # Output: 15\n",
    "\n",
    "outer_function()\n"
   ]
  },
  {
   "cell_type": "markdown",
   "id": "c64c8cef",
   "metadata": {},
   "source": [
    "### Lambda Function \n",
    "- also called Anonymous functions\n",
    "- short, one-line functions often used for simple operations. \n",
    "- defined using the lambda keyword."
   ]
  },
  {
   "cell_type": "code",
   "execution_count": 24,
   "id": "ecc8ba99",
   "metadata": {},
   "outputs": [
    {
     "data": {
      "text/plain": [
       "10"
      ]
     },
     "execution_count": 24,
     "metadata": {},
     "output_type": "execute_result"
    }
   ],
   "source": [
    "double = lambda x: x * 2\n",
    "double(5)"
   ]
  },
  {
   "cell_type": "markdown",
   "id": "30a4c667",
   "metadata": {},
   "source": [
    "### Recursive Functions\n",
    "- functions that call themselves"
   ]
  },
  {
   "cell_type": "code",
   "execution_count": 29,
   "id": "fca1c083",
   "metadata": {},
   "outputs": [
    {
     "name": "stdout",
     "output_type": "stream",
     "text": [
      "Enter the value whose factorial you want to calculate: 5\n",
      "The factorial of 5 is 120\n"
     ]
    }
   ],
   "source": [
    "#Recursive function to calculate factorial of a number\n",
    "def fact(num):\n",
    "    f = 1\n",
    "    if num == 0 or num == 1:\n",
    "        return 1\n",
    "    else:\n",
    "        f = num * fact(num - 1)\n",
    "        return f\n",
    "\n",
    "x = int(input(\"Enter the value whose factorial you want to calculate: \"))\n",
    "result = fact(x)\n",
    "print(f\"The factorial of {x} is {result}\")\n",
    "\n",
    "    "
   ]
  },
  {
   "cell_type": "code",
   "execution_count": null,
   "id": "10f1eaca",
   "metadata": {},
   "outputs": [],
   "source": []
  },
  {
   "cell_type": "code",
   "execution_count": null,
   "id": "f6a3ef28",
   "metadata": {},
   "outputs": [],
   "source": []
  }
 ],
 "metadata": {
  "kernelspec": {
   "display_name": "Python 3 (ipykernel)",
   "language": "python",
   "name": "python3"
  },
  "language_info": {
   "codemirror_mode": {
    "name": "ipython",
    "version": 3
   },
   "file_extension": ".py",
   "mimetype": "text/x-python",
   "name": "python",
   "nbconvert_exporter": "python",
   "pygments_lexer": "ipython3",
   "version": "3.10.9"
  }
 },
 "nbformat": 4,
 "nbformat_minor": 5
}
