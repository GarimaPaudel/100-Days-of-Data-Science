{
 "cells": [
  {
   "cell_type": "markdown",
   "id": "cd0ad734",
   "metadata": {},
   "source": [
    "### Classes\n",
    "- real world entity or object\n",
    "- template or blueprint\n",
    "- defines the structure and behavior of an object"
   ]
  },
  {
   "cell_type": "code",
   "execution_count": 1,
   "id": "45cf9526",
   "metadata": {},
   "outputs": [],
   "source": [
    "#creation of class\n",
    "class MyClass:\n",
    "    x = 10"
   ]
  },
  {
   "cell_type": "code",
   "execution_count": 2,
   "id": "cac28794",
   "metadata": {},
   "outputs": [
    {
     "name": "stdout",
     "output_type": "stream",
     "text": [
      "10\n"
     ]
    }
   ],
   "source": [
    "o1 = MyClass()\n",
    "print(o1.x)"
   ]
  },
  {
   "cell_type": "markdown",
   "id": "9de97355",
   "metadata": {},
   "source": [
    "#### Constructor\n",
    "- __init__() Function\n",
    "- built-in function\n",
    "- All classes have a function called __init__(), which is always executed when the class is being initiated.\n",
    "- assign values to object properties, or other operations that are necessary to do when the object is being created"
   ]
  },
  {
   "cell_type": "code",
   "execution_count": 3,
   "id": "87b63fbd",
   "metadata": {},
   "outputs": [
    {
     "name": "stdout",
     "output_type": "stream",
     "text": [
      "Marrrie\n",
      "5\n"
     ]
    }
   ],
   "source": [
    "class Student:\n",
    "    def __init__(self, name , roll):\n",
    "        self.name = name\n",
    "        self.roll = roll\n",
    "s1 = Student(\"Marrrie\", 5)\n",
    "print(s1.name)\n",
    "print(s1.roll)"
   ]
  },
  {
   "cell_type": "code",
   "execution_count": 4,
   "id": "bd345bb3",
   "metadata": {},
   "outputs": [
    {
     "name": "stdout",
     "output_type": "stream",
     "text": [
      "7590\n",
      "9230\n"
     ]
    }
   ],
   "source": [
    "class Vehicle:\n",
    "    def __init__(self, vno):\n",
    "        self.vno = vno\n",
    "v1 = Vehicle(7590)\n",
    "v2 = Vehicle(9230)\n",
    "print(v1.vno)\n",
    "print(v2.vno)"
   ]
  },
  {
   "cell_type": "markdown",
   "id": "3a6f94c3",
   "metadata": {},
   "source": [
    "#### __str__() Function\n",
    "- string representation of the object is returned"
   ]
  },
  {
   "cell_type": "code",
   "execution_count": 5,
   "id": "f4e9b2b3",
   "metadata": {},
   "outputs": [
    {
     "name": "stdout",
     "output_type": "stream",
     "text": [
      "John(36)\n"
     ]
    }
   ],
   "source": [
    "class Person:\n",
    "    \n",
    "    def __init__(self, name, age):\n",
    "        self.name = name\n",
    "        self.age = age\n",
    "\n",
    "    def __str__(self):\n",
    "        return f\"{self.name}({self.age})\"\n",
    "\n",
    "p1 = Person(\"John\", 36)\n",
    "\n",
    "print(p1)"
   ]
  },
  {
   "cell_type": "markdown",
   "id": "3bb8dc4b",
   "metadata": {},
   "source": [
    "### Object Methods"
   ]
  },
  {
   "cell_type": "code",
   "execution_count": 6,
   "id": "add3fac2",
   "metadata": {},
   "outputs": [
    {
     "name": "stdout",
     "output_type": "stream",
     "text": [
      "5\n",
      "6\n"
     ]
    }
   ],
   "source": [
    "class MyClass:\n",
    "    def __init__(self, x, y):\n",
    "        self.x = x\n",
    "        self.y = y\n",
    "    def myfunc(self):\n",
    "        print(self.x)\n",
    "        print(self.y)\n",
    "        \n",
    "myobj = MyClass(5,6)\n",
    "myobj.myfunc()"
   ]
  },
  {
   "cell_type": "markdown",
   "id": "cfb38c8b",
   "metadata": {},
   "source": [
    "- Note: It does not have to be named self , you can call it whatever you like, but it has to be the first parameter of any function in the class"
   ]
  },
  {
   "cell_type": "markdown",
   "id": "a7197aef",
   "metadata": {},
   "source": [
    "### Destructor"
   ]
  },
  {
   "cell_type": "code",
   "execution_count": 7,
   "id": "787eee6f",
   "metadata": {},
   "outputs": [
    {
     "name": "stdout",
     "output_type": "stream",
     "text": [
      "New employee\n",
      "New employee\n",
      "Employee left\n"
     ]
    }
   ],
   "source": [
    "class Employee:\n",
    "    def __init__(self, name, age):\n",
    "        self.name = name\n",
    "        self.age = age\n",
    "        print(\"New employee\")\n",
    "    def __del__(self):\n",
    "        print(\"Employee left\")\n",
    "e1 = Employee(\"ABC\", 20)\n",
    "e2 = Employee(\"XYZ\", 25)\n",
    "del e1"
   ]
  },
  {
   "cell_type": "markdown",
   "id": "bbaef30a",
   "metadata": {},
   "source": [
    "### Inheritance"
   ]
  },
  {
   "cell_type": "code",
   "execution_count": 8,
   "id": "c9e33dd9",
   "metadata": {},
   "outputs": [
    {
     "name": "stdout",
     "output_type": "stream",
     "text": [
      "10\n",
      "Child Method\n"
     ]
    }
   ],
   "source": [
    "class Parent:\n",
    "    def __init__(self, a):\n",
    "        self.a = a\n",
    "\n",
    "class Child(Parent):\n",
    "    def child_method(self):\n",
    "        return \"Child Method\"\n",
    "    \n",
    "obj = Child(10)\n",
    "print(obj.a)\n",
    "print(obj.child_method())"
   ]
  },
  {
   "cell_type": "code",
   "execution_count": 9,
   "id": "5244eeb1",
   "metadata": {},
   "outputs": [
    {
     "name": "stdout",
     "output_type": "stream",
     "text": [
      "Buddy says: Woof!\n",
      "Whiskers says: Meow!\n"
     ]
    }
   ],
   "source": [
    "# Base class (superclass)\n",
    "class Animal:\n",
    "    def __init__(self, name):\n",
    "        self.name = name\n",
    "\n",
    "    def speak(self):\n",
    "        pass\n",
    "\n",
    "# Derived class (subclass) inheriting from Animal\n",
    "class Dog(Animal):\n",
    "    def speak(self):\n",
    "        return \"Woof!\"\n",
    "\n",
    "# Another derived class inheriting from Animal\n",
    "class Cat(Animal):\n",
    "    def speak(self):\n",
    "        return \"Meow!\"\n",
    "\n",
    "# Creating objects of derived classes\n",
    "dog = Dog(\"Buddy\")\n",
    "cat = Cat(\"Whiskers\")\n",
    "\n",
    "# Using the inherited methods\n",
    "print(dog.name + \" says: \" + dog.speak())  \n",
    "print(cat.name + \" says: \" + cat.speak())  \n"
   ]
  },
  {
   "cell_type": "markdown",
   "id": "f02481d3",
   "metadata": {},
   "source": [
    "### Acess Modifiers\n",
    "- Public\n",
    "- Protected\n",
    "- Private"
   ]
  },
  {
   "cell_type": "markdown",
   "id": "acb2e316",
   "metadata": {},
   "source": [
    "#### Public Access Modifier\n",
    "- All data members and member functions are public by default"
   ]
  },
  {
   "cell_type": "code",
   "execution_count": 10,
   "id": "dac691bb",
   "metadata": {},
   "outputs": [
    {
     "name": "stdout",
     "output_type": "stream",
     "text": [
      "Name:  Garima\n"
     ]
    }
   ],
   "source": [
    "class MyClass:\n",
    "    \n",
    "    #constructor\n",
    "    def __init__(self,name):\n",
    "        self.name = name\n",
    "    def showName(self):\n",
    "        print(\"Name: \", self.name)\n",
    "\n",
    "obj = MyClass(\"Garima\")\n",
    "obj.showName()"
   ]
  },
  {
   "cell_type": "markdown",
   "id": "11384c1c",
   "metadata": {},
   "source": [
    "#### Protected Access Modifier\n",
    "- declared by adding a single underscore '_' before data member"
   ]
  },
  {
   "cell_type": "code",
   "execution_count": 11,
   "id": "69b3a5b4",
   "metadata": {},
   "outputs": [
    {
     "name": "stdout",
     "output_type": "stream",
     "text": [
      "Name:  Raj\n",
      "Salary:  20000\n",
      "Name:  Raj\n"
     ]
    }
   ],
   "source": [
    "#Super Class\n",
    "class Employee:\n",
    "    \n",
    "    #protected data member\n",
    "    _name = None\n",
    "    \n",
    "    def __init__(self, name):\n",
    "        self._name = name\n",
    "    \n",
    "    #protected member function\n",
    "    def _displayName(self):\n",
    "        \n",
    "        # accessing protected data members of super class\n",
    "        print(\"Name: \", self._name)\n",
    "            \n",
    "        \n",
    "#Creating derived class\n",
    "class Teacher(Employee):\n",
    "    def __init__(self, name, salary):\n",
    "        Employee.__init__(self, name)\n",
    "        self.salary = salary\n",
    "    \n",
    "    def display(self):\n",
    "        # accessing protected data members of super class\n",
    "        print(\"Name: \",self._name)\n",
    "        \n",
    "        print(\"Salary: \", self.salary)\n",
    "        \n",
    "emp1 = Teacher(\"Raj\", 20000)\n",
    "emp1.display()\n",
    "emp1._displayName() #calling protected member function"
   ]
  },
  {
   "cell_type": "markdown",
   "id": "b2d04c3a",
   "metadata": {},
   "source": [
    "#### Private Access Modifier\n",
    "- declared by adding a double underscore '__' before data member"
   ]
  },
  {
   "cell_type": "code",
   "execution_count": 12,
   "id": "b597b8cf",
   "metadata": {},
   "outputs": [
    {
     "name": "stdout",
     "output_type": "stream",
     "text": [
      "Public Variable\n"
     ]
    },
    {
     "ename": "AttributeError",
     "evalue": "'MyClass' object has no attribute '__displaypri'",
     "output_type": "error",
     "traceback": [
      "\u001b[1;31m---------------------------------------------------------------------------\u001b[0m",
      "\u001b[1;31mAttributeError\u001b[0m                            Traceback (most recent call last)",
      "Cell \u001b[1;32mIn[12], line 14\u001b[0m\n\u001b[0;32m     12\u001b[0m obj \u001b[38;5;241m=\u001b[39m MyClass()\n\u001b[0;32m     13\u001b[0m obj\u001b[38;5;241m.\u001b[39mdisplaypub()\n\u001b[1;32m---> 14\u001b[0m \u001b[43mobj\u001b[49m\u001b[38;5;241;43m.\u001b[39;49m\u001b[43m__displaypri\u001b[49m()\n",
      "\u001b[1;31mAttributeError\u001b[0m: 'MyClass' object has no attribute '__displaypri'"
     ]
    }
   ],
   "source": [
    "class MyClass:\n",
    "    def __init__(self):\n",
    "        self.public_var = \"Public Variable\"\n",
    "        self.__private_var = \"Private Variable\"\n",
    "        \n",
    "    def displaypub(self):        \n",
    "        print(self.public_var)\n",
    "        \n",
    "    def __displaypri(self):\n",
    "        print(self.__private_var)\n",
    "        \n",
    "obj = MyClass()\n",
    "obj.displaypub()\n",
    "obj.__displaypri() # This line will result in an AttributeError"
   ]
  },
  {
   "cell_type": "code",
   "execution_count": 13,
   "id": "2f9d01f6",
   "metadata": {},
   "outputs": [
    {
     "name": "stdout",
     "output_type": "stream",
     "text": [
      "Accessing from the object:\n",
      "This is a public variable\n",
      "This is a protected variable\n",
      "\n",
      "Accessing from the method:\n",
      "Public: This is a public variable\n",
      "Protected: This is a protected variable\n",
      "Private: This is a private variable\n",
      "\n",
      "Accessing protected variable from subclass:\n",
      "Accessing protected from subclass: This is a protected variable\n"
     ]
    }
   ],
   "source": [
    "class MyClass:\n",
    "    def __init__(self):\n",
    "        self.public_var = \"This is a public variable\"\n",
    "        self._protected_var = \"This is a protected variable\"\n",
    "        self.__private_var = \"This is a private variable\"\n",
    "    \n",
    "    def print_variables(self):\n",
    "        print(\"Public:\", self.public_var)\n",
    "        print(\"Protected:\", self._protected_var)\n",
    "        print(\"Private:\", self.__private_var)\n",
    "\n",
    "class SubClass(MyClass):\n",
    "    def access_protected(self):\n",
    "        print(\"Accessing protected from subclass:\", self._protected_var)\n",
    "    \n",
    "    # Uncomment the following to see the error when trying to access private variable\n",
    "    # def access_private(self):\n",
    "    #     print(\"Accessing private from subclass:\", self.__private_var)\n",
    "\n",
    "obj = MyClass()\n",
    "\n",
    "print(\"Accessing from the object:\")\n",
    "print(obj.public_var)  # Public variable can be accessed directly\n",
    "print(obj._protected_var)  # Protected variable can be accessed, but it's a convention not to\n",
    "# print(obj.__private_var)  # Uncommenting this line will result in an AttributeError\n",
    "\n",
    "print(\"\\nAccessing from the method:\")\n",
    "obj.print_variables()\n",
    "\n",
    "print(\"\\nAccessing protected variable from subclass:\")\n",
    "sub_obj = SubClass()\n",
    "sub_obj.access_protected()\n",
    "\n",
    "# Uncomment the following lines to see the error when trying to access private variable from subclass\n",
    "# print(\"\\nAccessing private variable from subclass:\")\n",
    "# sub_obj.access_private()\n"
   ]
  },
  {
   "cell_type": "code",
   "execution_count": null,
   "id": "73df6000",
   "metadata": {},
   "outputs": [],
   "source": []
  }
 ],
 "metadata": {
  "kernelspec": {
   "display_name": "Python 3 (ipykernel)",
   "language": "python",
   "name": "python3"
  },
  "language_info": {
   "codemirror_mode": {
    "name": "ipython",
    "version": 3
   },
   "file_extension": ".py",
   "mimetype": "text/x-python",
   "name": "python",
   "nbconvert_exporter": "python",
   "pygments_lexer": "ipython3",
   "version": "3.10.9"
  }
 },
 "nbformat": 4,
 "nbformat_minor": 5
}
