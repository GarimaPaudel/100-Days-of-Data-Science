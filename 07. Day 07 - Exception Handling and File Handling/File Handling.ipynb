{
 "cells": [
  {
   "cell_type": "markdown",
   "id": "bb365a44",
   "metadata": {},
   "source": [
    "### Opening and Closing Files"
   ]
  },
  {
   "cell_type": "code",
   "execution_count": 1,
   "id": "65ddf95e",
   "metadata": {},
   "outputs": [
    {
     "name": "stdout",
     "output_type": "stream",
     "text": [
      "This if file1.\n"
     ]
    }
   ],
   "source": [
    "file = open('file1.txt')\n",
    "print(file.read())"
   ]
  },
  {
   "cell_type": "code",
   "execution_count": 2,
   "id": "7c632622",
   "metadata": {},
   "outputs": [
    {
     "ename": "ValueError",
     "evalue": "I/O operation on closed file.",
     "output_type": "error",
     "traceback": [
      "\u001b[1;31m---------------------------------------------------------------------------\u001b[0m",
      "\u001b[1;31mValueError\u001b[0m                                Traceback (most recent call last)",
      "Cell \u001b[1;32mIn[2], line 2\u001b[0m\n\u001b[0;32m      1\u001b[0m file\u001b[38;5;241m.\u001b[39mclose()\n\u001b[1;32m----> 2\u001b[0m \u001b[38;5;28mprint\u001b[39m(\u001b[43mfile\u001b[49m\u001b[38;5;241;43m.\u001b[39;49m\u001b[43mread\u001b[49m\u001b[43m(\u001b[49m\u001b[43m)\u001b[49m)\n",
      "\u001b[1;31mValueError\u001b[0m: I/O operation on closed file."
     ]
    }
   ],
   "source": [
    "file.close()\n",
    "print(file.read())  # Already closed, so error occurred"
   ]
  },
  {
   "cell_type": "markdown",
   "id": "76ecdb99",
   "metadata": {},
   "source": [
    "### Read mode"
   ]
  },
  {
   "cell_type": "code",
   "execution_count": 3,
   "id": "9fa4e852",
   "metadata": {},
   "outputs": [
    {
     "name": "stdout",
     "output_type": "stream",
     "text": [
      "This if file1.\n"
     ]
    }
   ],
   "source": [
    "# Opening a file in read mode\n",
    "file_path = \"file1.txt\"\n",
    "\n",
    "# Using the open() function to open the file\n",
    "try:\n",
    "    file = open(file_path, 'r')  # 'r' for read mode\n",
    "    \n",
    "    # File operations can be performed here\n",
    "    \n",
    "    content = file.read()\n",
    "    print(content)\n",
    "finally:\n",
    "    file.close()"
   ]
  },
  {
   "cell_type": "markdown",
   "id": "8daede23",
   "metadata": {},
   "source": [
    "### Write Mode"
   ]
  },
  {
   "cell_type": "code",
   "execution_count": 4,
   "id": "426d17ad",
   "metadata": {},
   "outputs": [],
   "source": [
    "#'w' mode to write into the file\n",
    "file_path = \"file1.txt\"\n",
    "\n",
    "\n",
    "try:\n",
    "    file = open(file_path, 'w')  # 'w' for write mode\n",
    "    content = \"This is some content that will be written to the file1.\"\n",
    "    file.write(content)  # Writing the content to the file\n",
    "finally:\n",
    "    file.close() "
   ]
  },
  {
   "cell_type": "code",
   "execution_count": 5,
   "id": "22cb073b",
   "metadata": {},
   "outputs": [
    {
     "name": "stdout",
     "output_type": "stream",
     "text": [
      "This is some content that will be written to the file1.\n"
     ]
    }
   ],
   "source": [
    "file = open('file1.txt')\n",
    "print(file.read())"
   ]
  },
  {
   "cell_type": "markdown",
   "id": "90cd001b",
   "metadata": {},
   "source": [
    "### Append mode:\n",
    "- Append mode, adding data to the end of the file if it exists."
   ]
  },
  {
   "cell_type": "code",
   "execution_count": 7,
   "id": "0985a801",
   "metadata": {},
   "outputs": [],
   "source": [
    "file_path = \"file1.txt\"\n",
    "\n",
    "try:\n",
    "    file = open(file_path, 'a')\n",
    "    content = \"\\n THis text will be appended to the file\"\n",
    "    file.write(content)\n",
    "finally:\n",
    "    file.close()"
   ]
  },
  {
   "cell_type": "code",
   "execution_count": 8,
   "id": "42cfa2ed",
   "metadata": {},
   "outputs": [
    {
     "name": "stdout",
     "output_type": "stream",
     "text": [
      "This is some content that will be written to the file1.\n",
      " THis text will be appended to the file\n"
     ]
    }
   ],
   "source": [
    "file = open('file1.txt')\n",
    "print(file.read())"
   ]
  },
  {
   "cell_type": "markdown",
   "id": "0660b4d2",
   "metadata": {},
   "source": [
    "### Exclusive mode\n",
    "- creating a new file if it doesnot exist"
   ]
  },
  {
   "cell_type": "code",
   "execution_count": 11,
   "id": "d610158e",
   "metadata": {},
   "outputs": [],
   "source": [
    "file_path = \"new_file.txt\"\n",
    "\n",
    "try:\n",
    "    file = open(file_path, 'x')\n",
    "    content = \"New file created using 'x' mode\"\n",
    "    file.write(content)\n",
    "finally:\n",
    "    file.close()"
   ]
  },
  {
   "cell_type": "markdown",
   "id": "93dc36e7",
   "metadata": {},
   "source": [
    "### 't' mode"
   ]
  },
  {
   "cell_type": "code",
   "execution_count": 13,
   "id": "5c5bc6f6",
   "metadata": {},
   "outputs": [
    {
     "name": "stdout",
     "output_type": "stream",
     "text": [
      "New file created using 'x' mode\n"
     ]
    }
   ],
   "source": [
    "text_file_path = \"new_file.txt\"\n",
    "\n",
    "with open(text_file_path, 'rt') as text_file:\n",
    "    content = text_file.read()\n",
    "    print(content)"
   ]
  },
  {
   "cell_type": "markdown",
   "id": "041e98d9",
   "metadata": {},
   "source": [
    "### Reading from Files:\n",
    "- read(): Reads the entire content of the file.\n",
    "- readline(): Reads a single line from the file.\n",
    "- readlines(): Reads all lines into a list."
   ]
  },
  {
   "cell_type": "code",
   "execution_count": 14,
   "id": "d2a06522",
   "metadata": {},
   "outputs": [
    {
     "name": "stdout",
     "output_type": "stream",
     "text": [
      "This is some content that will be written to the file1.\n",
      "\n"
     ]
    }
   ],
   "source": [
    "file_read = open(\"file1.txt\")\n",
    "content = file_read.readline()\n",
    "print(content)"
   ]
  },
  {
   "cell_type": "code",
   "execution_count": 15,
   "id": "26f69b34",
   "metadata": {},
   "outputs": [
    {
     "name": "stdout",
     "output_type": "stream",
     "text": [
      "['This is some content that will be written to the file1.\\n', ' THis text will be appended to the file']\n"
     ]
    }
   ],
   "source": [
    "file_read = open(\"file1.txt\")\n",
    "content = file_read.readlines()\n",
    "print(content)"
   ]
  },
  {
   "cell_type": "markdown",
   "id": "5512c480",
   "metadata": {},
   "source": [
    "### Writing to files\n",
    "- write(): Writes a string to the file.\n",
    "- writelines(): Writes a list of strings to the file."
   ]
  },
  {
   "cell_type": "code",
   "execution_count": 16,
   "id": "ad4b5cd2",
   "metadata": {},
   "outputs": [],
   "source": [
    "file_path = \"file1.txt\"\n",
    "\n",
    "content = \"Line 1\\nLine 2\\nLine 3\"\n",
    "\n",
    "# Writing content using write() method\n",
    "with open(file_path, 'w') as file:\n",
    "    file.write(content)"
   ]
  },
  {
   "cell_type": "code",
   "execution_count": 17,
   "id": "a184fe18",
   "metadata": {},
   "outputs": [
    {
     "name": "stdout",
     "output_type": "stream",
     "text": [
      "Line 1\n",
      "Line 2\n",
      "Line 3\n"
     ]
    }
   ],
   "source": [
    "file = open('file1.txt','r')\n",
    "print(file.read())"
   ]
  },
  {
   "cell_type": "code",
   "execution_count": 20,
   "id": "72eca709",
   "metadata": {},
   "outputs": [],
   "source": [
    "file_path = \"file1.txt\"\n",
    "\n",
    "lines = [\"Line 1\\n\", \"Line 2\\n\", \"Line 3\\n\"]\n",
    "\n",
    "# Writing content using write() method\n",
    "with open(file_path, 'w') as file:\n",
    "    file.writelines(lines)"
   ]
  },
  {
   "cell_type": "code",
   "execution_count": 21,
   "id": "cfc91727",
   "metadata": {},
   "outputs": [
    {
     "name": "stdout",
     "output_type": "stream",
     "text": [
      "Line 1\n",
      "Line 2\n",
      "Line 3\n",
      "\n"
     ]
    }
   ],
   "source": [
    "file = open('file1.txt','r')\n",
    "print(file.read())"
   ]
  },
  {
   "cell_type": "code",
   "execution_count": null,
   "id": "c545b17c",
   "metadata": {},
   "outputs": [],
   "source": []
  }
 ],
 "metadata": {
  "kernelspec": {
   "display_name": "Python 3 (ipykernel)",
   "language": "python",
   "name": "python3"
  },
  "language_info": {
   "codemirror_mode": {
    "name": "ipython",
    "version": 3
   },
   "file_extension": ".py",
   "mimetype": "text/x-python",
   "name": "python",
   "nbconvert_exporter": "python",
   "pygments_lexer": "ipython3",
   "version": "3.10.9"
  }
 },
 "nbformat": 4,
 "nbformat_minor": 5
}
