{
 "cells": [
  {
   "cell_type": "markdown",
   "id": "d29edc8d",
   "metadata": {},
   "source": [
    "# Day 01 - Variables and Strings\n",
    "###### Topics to be covered today :\n",
    "###### Creating Variables\n",
    "###### Data Types - String , integer\n",
    "###### Use of Type()\n",
    "###### Changing Data Types \n",
    "###### String as Arrray\n",
    "###### Indexing\n",
    "###### String Length \n",
    "######  Slicing\n",
    "###### Strip\n",
    "###### Split \n",
    "###### Concat \n",
    "###### Replace\n",
    "###### Format"
   ]
  },
  {
   "cell_type": "markdown",
   "id": "b5dce4c2",
   "metadata": {},
   "source": [
    "###### Creating Variables and checking data type"
   ]
  },
  {
   "cell_type": "code",
   "execution_count": 11,
   "id": "ec385b43",
   "metadata": {},
   "outputs": [],
   "source": [
    "a = 5\n",
    "b = 5.6\n",
    "c = \"Data Science\""
   ]
  },
  {
   "cell_type": "code",
   "execution_count": 12,
   "id": "197a02d9",
   "metadata": {},
   "outputs": [
    {
     "data": {
      "text/plain": [
       "int"
      ]
     },
     "execution_count": 12,
     "metadata": {},
     "output_type": "execute_result"
    }
   ],
   "source": [
    "type(a)"
   ]
  },
  {
   "cell_type": "code",
   "execution_count": 13,
   "id": "54171e0b",
   "metadata": {},
   "outputs": [
    {
     "data": {
      "text/plain": [
       "float"
      ]
     },
     "execution_count": 13,
     "metadata": {},
     "output_type": "execute_result"
    }
   ],
   "source": [
    "type(b)"
   ]
  },
  {
   "cell_type": "code",
   "execution_count": 14,
   "id": "9e3c10d6",
   "metadata": {},
   "outputs": [
    {
     "data": {
      "text/plain": [
       "str"
      ]
     },
     "execution_count": 14,
     "metadata": {},
     "output_type": "execute_result"
    }
   ],
   "source": [
    "type(c)"
   ]
  },
  {
   "cell_type": "markdown",
   "id": "76187acc",
   "metadata": {},
   "source": [
    "###### Changing string to numeric data type"
   ]
  },
  {
   "cell_type": "code",
   "execution_count": 15,
   "id": "184131ec",
   "metadata": {},
   "outputs": [
    {
     "data": {
      "text/plain": [
       "str"
      ]
     },
     "execution_count": 15,
     "metadata": {},
     "output_type": "execute_result"
    }
   ],
   "source": [
    "d = \"12\"\n",
    "type(d)"
   ]
  },
  {
   "cell_type": "code",
   "execution_count": 16,
   "id": "fff0e800",
   "metadata": {},
   "outputs": [
    {
     "name": "stdout",
     "output_type": "stream",
     "text": [
      "<class 'int'>\n"
     ]
    }
   ],
   "source": [
    "print(type(int(d)))"
   ]
  },
  {
   "cell_type": "markdown",
   "id": "7ee61f7a",
   "metadata": {},
   "source": [
    "###### Strings are treated like array"
   ]
  },
  {
   "cell_type": "code",
   "execution_count": 17,
   "id": "8b5c9cac",
   "metadata": {},
   "outputs": [
    {
     "name": "stdout",
     "output_type": "stream",
     "text": [
      "Science\n"
     ]
    }
   ],
   "source": [
    "print(c[5: ])"
   ]
  },
  {
   "cell_type": "code",
   "execution_count": 18,
   "id": "956fdda7",
   "metadata": {},
   "outputs": [
    {
     "name": "stdout",
     "output_type": "stream",
     "text": [
      "nce\n"
     ]
    }
   ],
   "source": [
    "print(c[-3: ])"
   ]
  },
  {
   "cell_type": "markdown",
   "id": "1d31dffb",
   "metadata": {},
   "source": [
    "###### Length of a string"
   ]
  },
  {
   "cell_type": "code",
   "execution_count": 19,
   "id": "aaf2f9df",
   "metadata": {},
   "outputs": [
    {
     "name": "stdout",
     "output_type": "stream",
     "text": [
      "12\n"
     ]
    }
   ],
   "source": [
    "print(len(c))"
   ]
  },
  {
   "cell_type": "markdown",
   "id": "e711146f",
   "metadata": {},
   "source": [
    "######  Slicing"
   ]
  },
  {
   "cell_type": "code",
   "execution_count": 29,
   "id": "65764fe5",
   "metadata": {},
   "outputs": [
    {
     "name": "stdout",
     "output_type": "stream",
     "text": [
      "llo\n"
     ]
    }
   ],
   "source": [
    "b = \"Hello, World!\"\n",
    "print(b[2:5])"
   ]
  },
  {
   "cell_type": "markdown",
   "id": "be2b5e1e",
   "metadata": {},
   "source": [
    "###### Strip - to remove extra spaces in the beginning and end\n",
    "\n"
   ]
  },
  {
   "cell_type": "code",
   "execution_count": 21,
   "id": "1947b7d2",
   "metadata": {},
   "outputs": [
    {
     "name": "stdout",
     "output_type": "stream",
     "text": [
      "Before stripping:    Hello World     \n",
      "After stripping: Hello World\n"
     ]
    }
   ],
   "source": [
    "text = \"   Hello World     \"\n",
    "print(\"Before stripping:\", text)\n",
    "text1 = text.strip()\n",
    "print(\"After stripping:\", text1)"
   ]
  },
  {
   "cell_type": "markdown",
   "id": "33057e90",
   "metadata": {},
   "source": [
    "###### Splitting- splits the string using a separator"
   ]
  },
  {
   "cell_type": "code",
   "execution_count": 22,
   "id": "fa1dc6d3",
   "metadata": {},
   "outputs": [
    {
     "name": "stdout",
     "output_type": "stream",
     "text": [
      "['2020', '09', '01']\n"
     ]
    }
   ],
   "source": [
    "date = \"2020-09-01\"\n",
    "print(date.split(\"-\"))"
   ]
  },
  {
   "cell_type": "markdown",
   "id": "b29e9a4a",
   "metadata": {},
   "source": [
    "###### Concatinating"
   ]
  },
  {
   "cell_type": "code",
   "execution_count": 23,
   "id": "532a9170",
   "metadata": {},
   "outputs": [
    {
     "name": "stdout",
     "output_type": "stream",
     "text": [
      "Hello world\n"
     ]
    }
   ],
   "source": [
    "first = \"Hello\"\n",
    "second = \"world\"\n",
    "third = first+ \" \"+second\n",
    "print(third)"
   ]
  },
  {
   "cell_type": "markdown",
   "id": "66ca85fa",
   "metadata": {},
   "source": [
    "######  Replacing\n",
    "###### The replace() method replaces a specified phrase with another specified phrase.\n",
    "###### Syntax: string.replace(oldvalue, newvalue, count)"
   ]
  },
  {
   "cell_type": "code",
   "execution_count": 28,
   "id": "104b1174",
   "metadata": {},
   "outputs": [
    {
     "name": "stdout",
     "output_type": "stream",
     "text": [
      " information information data data\n"
     ]
    }
   ],
   "source": [
    "txt1 = \" data data data data\"\n",
    "new_txt = txt1.replace(\"data\", \"information\", 2)\n",
    "print(new_txt)"
   ]
  },
  {
   "cell_type": "markdown",
   "id": "58e2117f",
   "metadata": {},
   "source": [
    "###### Format"
   ]
  },
  {
   "cell_type": "code",
   "execution_count": 31,
   "id": "8f561f28",
   "metadata": {},
   "outputs": [
    {
     "name": "stdout",
     "output_type": "stream",
     "text": [
      "I am John, and I am 22\n"
     ]
    }
   ],
   "source": [
    "age = 22\n",
    "txt = \"I am John, and I am {}\"\n",
    "print(txt.format(age))"
   ]
  },
  {
   "cell_type": "code",
   "execution_count": null,
   "id": "b4bd3019",
   "metadata": {},
   "outputs": [],
   "source": []
  }
 ],
 "metadata": {
  "kernelspec": {
   "display_name": "Python 3 (ipykernel)",
   "language": "python",
   "name": "python3"
  },
  "language_info": {
   "codemirror_mode": {
    "name": "ipython",
    "version": 3
   },
   "file_extension": ".py",
   "mimetype": "text/x-python",
   "name": "python",
   "nbconvert_exporter": "python",
   "pygments_lexer": "ipython3",
   "version": "3.10.9"
  }
 },
 "nbformat": 4,
 "nbformat_minor": 5
}
