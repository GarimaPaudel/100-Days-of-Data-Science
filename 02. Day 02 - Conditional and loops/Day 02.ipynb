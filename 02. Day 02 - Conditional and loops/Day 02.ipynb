{
 "cells": [
  {
   "cell_type": "code",
   "execution_count": 1,
   "id": "ab20bfcf",
   "metadata": {},
   "outputs": [
    {
     "name": "stdout",
     "output_type": "stream",
     "text": [
      "Enter the number105\n",
      "greater than hunderd\n"
     ]
    }
   ],
   "source": [
    "# if statement\n",
    "\n",
    "val = input(\"Enter the number\")\n",
    "#value inputted using input() function is in string data type. so, we need typecasting\n",
    "value_float = float(val)\n",
    "if(value_float > 100):\n",
    "    print(\"greater than hunderd\")"
   ]
  },
  {
   "cell_type": "code",
   "execution_count": 2,
   "id": "63b332ed",
   "metadata": {},
   "outputs": [
    {
     "name": "stdout",
     "output_type": "stream",
     "text": [
      "Enter the no2\n",
      "even\n"
     ]
    }
   ],
   "source": [
    "value = int(input(\"Enter the no\"))\n",
    "if(value % 2 == 0):\n",
    "    print(\"even\")\n",
    "else:\n",
    "    print(\"odd\")"
   ]
  },
  {
   "cell_type": "code",
   "execution_count": 3,
   "id": "3750995c",
   "metadata": {},
   "outputs": [
    {
     "name": "stdout",
     "output_type": "stream",
     "text": [
      "Enter your age: 22\n",
      "Eligible to vote\n"
     ]
    }
   ],
   "source": [
    "# Age form\n",
    "age = float(input(\"Enter your age: \"))\n",
    "if(age<18):\n",
    "    print(\"You are not eligible to vote\")\n",
    "else:\n",
    "    print(\"Eligible to vote\")"
   ]
  },
  {
   "cell_type": "code",
   "execution_count": 4,
   "id": "ff0363d7",
   "metadata": {},
   "outputs": [
    {
     "name": "stdout",
     "output_type": "stream",
     "text": [
      "Enter your age: 65\n",
      "Senior Citizen\n"
     ]
    }
   ],
   "source": [
    "# if-elif-else\n",
    "# Age form\n",
    "age = float(input(\"Enter your age: \"))\n",
    "if(age<18):\n",
    "    print(\"Minor Age\")\n",
    "elif(age >= 18 and age<= 45):\n",
    "    print(\"Mid-Age\")\n",
    "elif(age>45 and age<= 60):\n",
    "    print(\"Senior Mid Age\")\n",
    "else:\n",
    "    print(\"Senior Citizen\")"
   ]
  },
  {
   "cell_type": "code",
   "execution_count": 5,
   "id": "93af7275",
   "metadata": {},
   "outputs": [
    {
     "name": "stdout",
     "output_type": "stream",
     "text": [
      "Enter your age: 15\n",
      "You are in college, Minor age\n"
     ]
    }
   ],
   "source": [
    "# nested if else\n",
    "age = float(input(\"Enter your age: \"))\n",
    "if(age<18):\n",
    "    if(age<15):\n",
    "        print(\"You are in school, Minor age\")\n",
    "    else:\n",
    "        print(\"You are in college, Minor age\")\n",
    "elif(age >= 18 and age<= 45):\n",
    "    print(\"Mid-Age\")\n",
    "elif(age>45 and age<= 60):\n",
    "    print(\"Senior Mid Age\")\n",
    "else:\n",
    "    print(\"Senior Citizen\")"
   ]
  },
  {
   "cell_type": "code",
   "execution_count": 6,
   "id": "ca07424a",
   "metadata": {},
   "outputs": [],
   "source": [
    "# Loop statements"
   ]
  },
  {
   "cell_type": "code",
   "execution_count": 7,
   "id": "3ee62f09",
   "metadata": {},
   "outputs": [
    {
     "name": "stdout",
     "output_type": "stream",
     "text": [
      "1\n",
      "2\n",
      "3\n",
      "4\n",
      "5\n"
     ]
    }
   ],
   "source": [
    "#for loop\n",
    "lst = [1,2,3,4,5]\n",
    "for i in lst:\n",
    "    print (i)"
   ]
  },
  {
   "cell_type": "code",
   "execution_count": 8,
   "id": "36a04a99",
   "metadata": {},
   "outputs": [
    {
     "name": "stdout",
     "output_type": "stream",
     "text": [
      "1\n",
      "4\n",
      "9\n",
      "16\n",
      "25\n"
     ]
    }
   ],
   "source": [
    "lst = [1,2,3,4,5]\n",
    "for i in lst:\n",
    "    print (i*i)"
   ]
  },
  {
   "cell_type": "code",
   "execution_count": 9,
   "id": "6fc44719",
   "metadata": {},
   "outputs": [
    {
     "name": "stdout",
     "output_type": "stream",
     "text": [
      "55\n"
     ]
    }
   ],
   "source": [
    "# find the sum of all the elements in the list\n",
    "list = [1,2,3,4,5,6,7,8,9,10]\n",
    "sum1 = 0\n",
    "for i in list:\n",
    "    sum1+=i\n",
    "print(sum1)"
   ]
  },
  {
   "cell_type": "code",
   "execution_count": 10,
   "id": "f1042956",
   "metadata": {},
   "outputs": [
    {
     "name": "stdout",
     "output_type": "stream",
     "text": [
      "Even sum is 30 and odd sum is 25\n"
     ]
    }
   ],
   "source": [
    "# find the sum of even and odd number\n",
    "list1 = [1,2,3,4,5,6,7,8,9,10]\n",
    "even_sum = 0\n",
    "odd_sum = 0\n",
    "for i in list1:\n",
    "    if(i%2 == 0):\n",
    "        even_sum += i\n",
    "    else:\n",
    "        odd_sum += i\n",
    "print(\"Even sum is {} and odd sum is {}\". format(even_sum, odd_sum))"
   ]
  },
  {
   "cell_type": "code",
   "execution_count": 11,
   "id": "82d016ab",
   "metadata": {},
   "outputs": [
    {
     "name": "stdout",
     "output_type": "stream",
     "text": [
      "0\n",
      "1\n",
      "2\n",
      "3\n",
      "4\n",
      "5\n",
      "6\n",
      "7\n",
      "8\n",
      "9\n",
      "10\n"
     ]
    }
   ],
   "source": [
    "# while loops\n",
    "i = 0\n",
    "while(i<=10):\n",
    "    print(i)\n",
    "    i = i+1"
   ]
  },
  {
   "cell_type": "code",
   "execution_count": 12,
   "id": "95e01c72",
   "metadata": {},
   "outputs": [
    {
     "name": "stdout",
     "output_type": "stream",
     "text": [
      "1\n",
      "2\n",
      "3\n",
      "4\n"
     ]
    }
   ],
   "source": [
    "# break\n",
    "x = 1\n",
    "while(x<7):\n",
    "    print(x)\n",
    "    if(x == 4):\n",
    "        break\n",
    "    x=x+1"
   ]
  },
  {
   "cell_type": "code",
   "execution_count": 13,
   "id": "167f1b8f",
   "metadata": {},
   "outputs": [
    {
     "name": "stdout",
     "output_type": "stream",
     "text": [
      "1\n",
      "2\n",
      "3\n",
      "5\n",
      "6\n",
      "7\n"
     ]
    }
   ],
   "source": [
    "# continue\n",
    "x = 0\n",
    "while x<7:\n",
    "    x = x+1\n",
    "    if x==4:\n",
    "        continue\n",
    "    print(x)"
   ]
  },
  {
   "cell_type": "code",
   "execution_count": 14,
   "id": "4dec10c6",
   "metadata": {},
   "outputs": [
    {
     "name": "stdout",
     "output_type": "stream",
     "text": [
      "2\n",
      "4\n",
      "6\n",
      "8\n",
      "10\n",
      "12\n",
      "14\n",
      "16\n",
      "18\n",
      "20\n",
      "22\n",
      "24\n",
      "26\n",
      "28\n",
      "30\n",
      "32\n",
      "34\n",
      "36\n",
      "38\n",
      "40\n",
      "42\n",
      "44\n",
      "46\n",
      "48\n"
     ]
    }
   ],
   "source": [
    "# printing even numbers\n",
    "for i in range(1,50):\n",
    "    if(i % 2 == 0):\n",
    "        print(i)"
   ]
  },
  {
   "cell_type": "code",
   "execution_count": 15,
   "id": "ed3130df",
   "metadata": {},
   "outputs": [
    {
     "name": "stdout",
     "output_type": "stream",
     "text": [
      "Enter the number5\n",
      "120\n"
     ]
    }
   ],
   "source": [
    "# factorial calculation\n",
    "fact = 1\n",
    "n = int(input(\"Enter the number\"))\n",
    "i = n\n",
    "while(i != 0):\n",
    "    fact = fact*i\n",
    "    i = i-1\n",
    "print(fact)"
   ]
  },
  {
   "cell_type": "code",
   "execution_count": 19,
   "id": "b85e38d0",
   "metadata": {},
   "outputs": [
    {
     "name": "stdout",
     "output_type": "stream",
     "text": [
      "Enter the number5\n",
      "Sum is 15\n"
     ]
    }
   ],
   "source": [
    "#Python program that asks the user for a positive integer and then calculates the sum of all numbers from 1 to that integer using a for loop.\n",
    "num = int(input(\"Enter the number\"))\n",
    "sum1 = 0\n",
    "for i in range(1, num+1):\n",
    "    sum1 += i\n",
    "print(\"Sum is {}\".format(sum1))"
   ]
  },
  {
   "cell_type": "code",
   "execution_count": 24,
   "id": "7d1c2fb1",
   "metadata": {},
   "outputs": [
    {
     "name": "stdout",
     "output_type": "stream",
     "text": [
      "How many terms of fibonacci series you want to print?10\n",
      "0\n",
      "1\n",
      "1\n",
      "2\n",
      "3\n",
      "5\n",
      "8\n",
      "13\n",
      "21\n",
      "34\n",
      "55\n"
     ]
    }
   ],
   "source": [
    "# Fibanacci sequence\n",
    "n = int(input(\"How many terms of fibonacci series you want to print?\"))\n",
    "a=0\n",
    "b=1\n",
    "print(a)\n",
    "print(b)\n",
    "for i in range(n-1):\n",
    "    c= a+b    \n",
    "    print(c)\n",
    "    a=b\n",
    "    b = c \n",
    "    \n"
   ]
  },
  {
   "cell_type": "code",
   "execution_count": 42,
   "id": "7b43cbaf",
   "metadata": {},
   "outputs": [
    {
     "name": "stdout",
     "output_type": "stream",
     "text": [
      "Enter the number: 12\n",
      "12 * 1 = 12\n",
      "12 * 2 = 24\n",
      "12 * 3 = 36\n",
      "12 * 4 = 48\n",
      "12 * 5 = 60\n",
      "12 * 6 = 72\n",
      "12 * 7 = 84\n",
      "12 * 8 = 96\n",
      "12 * 9 = 108\n",
      "12 * 10 = 120\n"
     ]
    }
   ],
   "source": [
    "#  Python program to print the multiplication table of a given number using a nested for loop.\n",
    "num = int(input(\"Enter the number: \"))\n",
    "for i in range(10):\n",
    "    print(\"{} * {} = {}\".format(num,i+1, num*(i+1)))"
   ]
  },
  {
   "cell_type": "code",
   "execution_count": 50,
   "id": "ff23292b",
   "metadata": {},
   "outputs": [
    {
     "name": "stdout",
     "output_type": "stream",
     "text": [
      "\n",
      "\n",
      "* \n",
      "\n",
      "* * \n",
      "\n",
      "* * * \n",
      "\n",
      "* * * * \n",
      "\n",
      "* * * * * \n",
      "\n"
     ]
    }
   ],
   "source": [
    "# pattern printing\n",
    "for i in range(6):\n",
    "    for j in range(i):\n",
    "        print(\"*\", end=\" \")\n",
    "    print(\"\\n\")   \n"
   ]
  },
  {
   "cell_type": "code",
   "execution_count": 58,
   "id": "b94b334e",
   "metadata": {},
   "outputs": [
    {
     "name": "stdout",
     "output_type": "stream",
     "text": [
      "* * * * * \n",
      "\n",
      "* * * * \n",
      "\n",
      "* * * \n",
      "\n",
      "* * \n",
      "\n",
      "* \n",
      "\n"
     ]
    }
   ],
   "source": [
    "for i in range(5,0,-1):\n",
    "    for j in range(i):\n",
    "        print(\"*\", end=\" \")\n",
    "    print(\"\\n\")"
   ]
  },
  {
   "cell_type": "code",
   "execution_count": 68,
   "id": "e2a32ea0",
   "metadata": {},
   "outputs": [
    {
     "name": "stdout",
     "output_type": "stream",
     "text": [
      "    *\n",
      "   **\n",
      "  ***\n",
      " ****\n",
      "*****\n"
     ]
    }
   ],
   "source": [
    "for i in range(1, 6):\n",
    "    print(\" \"*(5-i)+ \"*\"*i)"
   ]
  },
  {
   "cell_type": "code",
   "execution_count": null,
   "id": "d3902137",
   "metadata": {},
   "outputs": [],
   "source": []
  }
 ],
 "metadata": {
  "kernelspec": {
   "display_name": "Python 3 (ipykernel)",
   "language": "python",
   "name": "python3"
  },
  "language_info": {
   "codemirror_mode": {
    "name": "ipython",
    "version": 3
   },
   "file_extension": ".py",
   "mimetype": "text/x-python",
   "name": "python",
   "nbconvert_exporter": "python",
   "pygments_lexer": "ipython3",
   "version": "3.10.9"
  }
 },
 "nbformat": 4,
 "nbformat_minor": 5
}
