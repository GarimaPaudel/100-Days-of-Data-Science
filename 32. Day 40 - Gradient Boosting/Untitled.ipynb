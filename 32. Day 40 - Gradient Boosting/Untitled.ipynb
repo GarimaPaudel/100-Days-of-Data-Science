{
 "cells": [
  {
   "cell_type": "markdown",
   "id": "9dca26cc",
   "metadata": {},
   "source": [
    "## Gradient Boosting\n",
    "\n",
    "Gradient Boosting is a powerful machine learning technique for both regression and classification problems. It's an ensemble learning method that combines the predictions of multiple base models (typically decision trees) to create a stronger predictive model. The basic idea behind gradient boosting is to build an ensemble of weak learners, sequentially, where each learner corrects the errors made by its predecessor. The final model is a weighted sum of these weak learners.\n",
    "\n",
    "Here's a step-by-step explanation of how gradient boosting works:\n",
    "\n",
    "1. **Initialize the Model**: Gradient boosting starts with an initial model, often a simple one like a single decision tree. This is often referred to as the \"base model\" or the \"first learner.\"\n",
    "\n",
    "2. **Calculate Residuals**: The next step is to calculate the residuals, which are the differences between the actual target values and the predictions made by the current model. These residuals represent the errors made by the model and will be used to fit the next model.\n",
    "\n",
    "3. **Fit a Weak Learner**: A new model (usually a decision tree) is fitted to the residuals from the previous step. The goal of this new model is to capture the patterns or relationships that the initial model failed to capture. The new model is typically a weak learner, meaning it's a simple model with limited depth to prevent overfitting.\n",
    "\n",
    "4. **Update the Model**: The new model is then added to the ensemble with a weighted contribution. The weights are determined during the training process. The weights give more importance to models that perform better in reducing the residuals.\n",
    "\n",
    "5. **Repeat Steps 2-4**: Steps 2-4 are repeated iteratively. At each step, a new weak learner is added to the ensemble, and its weight is determined based on how well it corrects the errors made by the current ensemble. This process continues until a predefined number of iterations or until a performance threshold is reached.\n",
    "\n",
    "6. **Final Prediction**: The final prediction is made by aggregating the predictions from all the weak learners. This is done by summing up the weighted predictions from each learner. For regression tasks, this results in a continuous prediction, while for classification tasks, it can be used to determine class probabilities or final class labels.\n",
    "\n",
    "Gradient boosting offers several advantages:\n",
    "\n",
    "- **High Predictive Power**: Gradient boosting often leads to highly accurate models and is considered one of the state-of-the-art techniques for many machine learning competitions.\n",
    "\n",
    "- **Robustness to Overfitting**: By using weak learners and adding them sequentially, gradient boosting tends to be less prone to overfitting compared to a single complex model.\n",
    "\n",
    "- **Flexibility**: It can be used with various loss functions and weak learner types, making it adaptable to a wide range of problems.\n",
    "\n",
    "However, it also has some limitations, such as being computationally intensive and potentially requiring careful hyperparameter tuning. Popular implementations of gradient boosting include XGBoost, LightGBM, and CatBoost, which have been optimized for performance and scalability."
   ]
  },
  {
   "cell_type": "code",
   "execution_count": null,
   "id": "d84297c3",
   "metadata": {},
   "outputs": [],
   "source": []
  }
 ],
 "metadata": {
  "kernelspec": {
   "display_name": "Python 3 (ipykernel)",
   "language": "python",
   "name": "python3"
  },
  "language_info": {
   "codemirror_mode": {
    "name": "ipython",
    "version": 3
   },
   "file_extension": ".py",
   "mimetype": "text/x-python",
   "name": "python",
   "nbconvert_exporter": "python",
   "pygments_lexer": "ipython3",
   "version": "3.10.9"
  }
 },
 "nbformat": 4,
 "nbformat_minor": 5
}
