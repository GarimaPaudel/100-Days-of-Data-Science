{
 "cells": [
  {
   "cell_type": "markdown",
   "id": "3f6d6245",
   "metadata": {},
   "source": [
    "### Lists : "
   ]
  },
  {
   "cell_type": "markdown",
   "id": "a4eb0d1d",
   "metadata": {},
   "source": [
    " mutable data structure, changeable, ordered sequence of elements inside square brackets[ ]\n"
   ]
  },
  {
   "cell_type": "code",
   "execution_count": 1,
   "id": "b7123556",
   "metadata": {},
   "outputs": [
    {
     "data": {
      "text/plain": [
       "list"
      ]
     },
     "execution_count": 1,
     "metadata": {},
     "output_type": "execute_result"
    }
   ],
   "source": [
    "type ([])"
   ]
  },
  {
   "cell_type": "code",
   "execution_count": 2,
   "id": "0a616d92",
   "metadata": {},
   "outputs": [
    {
     "data": {
      "text/plain": [
       "list"
      ]
     },
     "execution_count": 2,
     "metadata": {},
     "output_type": "execute_result"
    }
   ],
   "source": [
    "lst = list()  #creates empty list\n",
    "type(lst)"
   ]
  },
  {
   "cell_type": "code",
   "execution_count": 3,
   "id": "e12c28be",
   "metadata": {},
   "outputs": [
    {
     "name": "stdout",
     "output_type": "stream",
     "text": [
      "[10, 'Data', 20, True, 15.6]\n",
      "<class 'list'>\n"
     ]
    }
   ],
   "source": [
    "lst_example = [10,\"Data\",20, True , 15.6]\n",
    "print(lst_example)\n",
    "print(type(lst_example))"
   ]
  },
  {
   "cell_type": "code",
   "execution_count": 4,
   "id": "8195d377",
   "metadata": {},
   "outputs": [
    {
     "name": "stdout",
     "output_type": "stream",
     "text": [
      "[10, 20, 30, 'A', 22.5]\n",
      "30\n"
     ]
    }
   ],
   "source": [
    "l = [10, 20, 30, \"A\", 22.5]\n",
    "#    0    1   2   3    4\n",
    "#    -5  -4  -3  -2   -1\n",
    "print(l)\n",
    "print(l[2])"
   ]
  },
  {
   "cell_type": "code",
   "execution_count": 5,
   "id": "0dd081ff",
   "metadata": {},
   "outputs": [
    {
     "data": {
      "text/plain": [
       "'A'"
      ]
     },
     "execution_count": 5,
     "metadata": {},
     "output_type": "execute_result"
    }
   ],
   "source": [
    "l[-2]"
   ]
  },
  {
   "cell_type": "code",
   "execution_count": 6,
   "id": "ab356c59",
   "metadata": {},
   "outputs": [
    {
     "name": "stdout",
     "output_type": "stream",
     "text": [
      "A\n"
     ]
    }
   ],
   "source": [
    "print(l[3])"
   ]
  },
  {
   "cell_type": "code",
   "execution_count": 7,
   "id": "925f1db1",
   "metadata": {},
   "outputs": [
    {
     "name": "stdout",
     "output_type": "stream",
     "text": [
      "[10, 'C', 30, 'A', 22.5]\n"
     ]
    }
   ],
   "source": [
    "l[1] = \"C\"\n",
    "print(l)   # list is mutable object"
   ]
  },
  {
   "cell_type": "code",
   "execution_count": 8,
   "id": "12d701e9",
   "metadata": {
    "scrolled": true
   },
   "outputs": [
    {
     "ename": "IndexError",
     "evalue": "list assignment index out of range",
     "output_type": "error",
     "traceback": [
      "\u001b[1;31m---------------------------------------------------------------------------\u001b[0m",
      "\u001b[1;31mIndexError\u001b[0m                                Traceback (most recent call last)",
      "Cell \u001b[1;32mIn[8], line 1\u001b[0m\n\u001b[1;32m----> 1\u001b[0m l[\u001b[38;5;241m6\u001b[39m] \u001b[38;5;241m=\u001b[39m \u001b[38;5;241m400\u001b[39m\n",
      "\u001b[1;31mIndexError\u001b[0m: list assignment index out of range"
     ]
    }
   ],
   "source": [
    "l[6] = 400  #out of range"
   ]
  },
  {
   "cell_type": "markdown",
   "id": "dab66da2",
   "metadata": {},
   "source": [
    "### List Functions"
   ]
  },
  {
   "cell_type": "code",
   "execution_count": 9,
   "id": "d45884f7",
   "metadata": {},
   "outputs": [],
   "source": [
    "# len()"
   ]
  },
  {
   "cell_type": "code",
   "execution_count": 10,
   "id": "96a01a42",
   "metadata": {},
   "outputs": [
    {
     "name": "stdout",
     "output_type": "stream",
     "text": [
      "5\n"
     ]
    }
   ],
   "source": [
    "my_list = [10,40,30,60,50]\n",
    "print(len(my_list))"
   ]
  },
  {
   "cell_type": "code",
   "execution_count": 11,
   "id": "c94c3c5b",
   "metadata": {},
   "outputs": [],
   "source": [
    "# sum()"
   ]
  },
  {
   "cell_type": "code",
   "execution_count": 12,
   "id": "dc45ff8c",
   "metadata": {},
   "outputs": [
    {
     "name": "stdout",
     "output_type": "stream",
     "text": [
      "190\n"
     ]
    }
   ],
   "source": [
    "my_list = [10,40,30,60,50]\n",
    "print(sum(my_list))"
   ]
  },
  {
   "cell_type": "code",
   "execution_count": 13,
   "id": "bb2705de",
   "metadata": {},
   "outputs": [],
   "source": [
    "# max()"
   ]
  },
  {
   "cell_type": "code",
   "execution_count": 14,
   "id": "fe737f09",
   "metadata": {},
   "outputs": [
    {
     "data": {
      "text/plain": [
       "90"
      ]
     },
     "execution_count": 14,
     "metadata": {},
     "output_type": "execute_result"
    }
   ],
   "source": [
    "list1 = [90,80,10,60,50,20]\n",
    "max(list1)"
   ]
  },
  {
   "cell_type": "code",
   "execution_count": 15,
   "id": "509d9ac4",
   "metadata": {},
   "outputs": [],
   "source": [
    "#min()"
   ]
  },
  {
   "cell_type": "code",
   "execution_count": 16,
   "id": "3ac9e0eb",
   "metadata": {},
   "outputs": [
    {
     "data": {
      "text/plain": [
       "10"
      ]
     },
     "execution_count": 16,
     "metadata": {},
     "output_type": "execute_result"
    }
   ],
   "source": [
    "list2 = [90,80,10,60,50,20]\n",
    "min(list2)"
   ]
  },
  {
   "cell_type": "code",
   "execution_count": 17,
   "id": "d9069f29",
   "metadata": {},
   "outputs": [
    {
     "name": "stdout",
     "output_type": "stream",
     "text": [
      "A\n"
     ]
    }
   ],
   "source": [
    "my_list = [\"A\",\"B\",\"C\",\"D\"]\n",
    "print(min(my_list))     #based on ASCII"
   ]
  },
  {
   "cell_type": "code",
   "execution_count": 18,
   "id": "847ccdeb",
   "metadata": {},
   "outputs": [],
   "source": [
    "# sorted()"
   ]
  },
  {
   "cell_type": "code",
   "execution_count": 19,
   "id": "da549c5e",
   "metadata": {},
   "outputs": [
    {
     "name": "stdout",
     "output_type": "stream",
     "text": [
      "['B', 'C', 'D', 'D']\n"
     ]
    }
   ],
   "source": [
    "list3 = [\"D\",\"B\",\"C\",\"D\"]\n",
    "print(sorted(list3))"
   ]
  },
  {
   "cell_type": "code",
   "execution_count": 20,
   "id": "a2b4d68c",
   "metadata": {},
   "outputs": [
    {
     "ename": "TypeError",
     "evalue": "'<' not supported between instances of 'str' and 'int'",
     "output_type": "error",
     "traceback": [
      "\u001b[1;31m---------------------------------------------------------------------------\u001b[0m",
      "\u001b[1;31mTypeError\u001b[0m                                 Traceback (most recent call last)",
      "Cell \u001b[1;32mIn[20], line 2\u001b[0m\n\u001b[0;32m      1\u001b[0m list4 \u001b[38;5;241m=\u001b[39m [\u001b[38;5;241m100\u001b[39m,\u001b[38;5;124m\"\u001b[39m\u001b[38;5;124mB\u001b[39m\u001b[38;5;124m\"\u001b[39m,\u001b[38;5;124m\"\u001b[39m\u001b[38;5;124mC\u001b[39m\u001b[38;5;124m\"\u001b[39m,\u001b[38;5;124m\"\u001b[39m\u001b[38;5;124mD\u001b[39m\u001b[38;5;124m\"\u001b[39m]\n\u001b[1;32m----> 2\u001b[0m \u001b[38;5;28mprint\u001b[39m(\u001b[38;5;28;43msorted\u001b[39;49m\u001b[43m(\u001b[49m\u001b[43mlist4\u001b[49m\u001b[43m)\u001b[49m)\n",
      "\u001b[1;31mTypeError\u001b[0m: '<' not supported between instances of 'str' and 'int'"
     ]
    }
   ],
   "source": [
    "list4 = [100,\"B\",\"C\",\"D\"]\n",
    "print(sorted(list4))\n"
   ]
  },
  {
   "cell_type": "code",
   "execution_count": 21,
   "id": "a6b7747a",
   "metadata": {},
   "outputs": [
    {
     "name": "stdout",
     "output_type": "stream",
     "text": [
      "[60, 50, 30, 20, 10]\n"
     ]
    }
   ],
   "source": [
    "list4 = [10,20,30,60,50]\n",
    "print(sorted(list4, reverse=True))  # desc order"
   ]
  },
  {
   "cell_type": "code",
   "execution_count": 22,
   "id": "f5e8fc02",
   "metadata": {},
   "outputs": [],
   "source": [
    "# list()"
   ]
  },
  {
   "cell_type": "code",
   "execution_count": 23,
   "id": "001eecb5",
   "metadata": {},
   "outputs": [
    {
     "name": "stdout",
     "output_type": "stream",
     "text": [
      "[1, 2, 3, 4]\n"
     ]
    }
   ],
   "source": [
    "t = (1,2,3,4)\n",
    "print(list(t))"
   ]
  },
  {
   "cell_type": "code",
   "execution_count": 24,
   "id": "6020ac2d",
   "metadata": {},
   "outputs": [
    {
     "name": "stdout",
     "output_type": "stream",
     "text": [
      "['D', 'a', 't', 'a', 'S', 'c', 'i', 'e', 'n', 'c', 'e']\n"
     ]
    }
   ],
   "source": [
    "print(list(\"DataScience\"))"
   ]
  },
  {
   "cell_type": "markdown",
   "id": "84ca091f",
   "metadata": {},
   "source": [
    "### List Slicing or Comprehensions"
   ]
  },
  {
   "cell_type": "code",
   "execution_count": 25,
   "id": "9420c3f6",
   "metadata": {},
   "outputs": [],
   "source": [
    "# l[start : end]"
   ]
  },
  {
   "cell_type": "code",
   "execution_count": 26,
   "id": "5ec31d59",
   "metadata": {},
   "outputs": [
    {
     "name": "stdout",
     "output_type": "stream",
     "text": [
      "[2, 3, 4, 5, 6]\n"
     ]
    }
   ],
   "source": [
    "list5 = [0,1,2,3,4,5,6,7,8,9]\n",
    "print(list5[2:7])"
   ]
  },
  {
   "cell_type": "code",
   "execution_count": 27,
   "id": "9c14d068",
   "metadata": {},
   "outputs": [
    {
     "data": {
      "text/plain": [
       "[0, 1, 2, 3, 4, 5, 6, 7, 8, 9]"
      ]
     },
     "execution_count": 27,
     "metadata": {},
     "output_type": "execute_result"
    }
   ],
   "source": [
    "list5[:]  # start to end"
   ]
  },
  {
   "cell_type": "code",
   "execution_count": 28,
   "id": "a0633775",
   "metadata": {},
   "outputs": [
    {
     "data": {
      "text/plain": [
       "[2, 3, 4, 5, 6, 7, 8, 9]"
      ]
     },
     "execution_count": 28,
     "metadata": {},
     "output_type": "execute_result"
    }
   ],
   "source": [
    "list5 [2:] # from 2nd index to end"
   ]
  },
  {
   "cell_type": "code",
   "execution_count": 29,
   "id": "994cd3d6",
   "metadata": {},
   "outputs": [
    {
     "data": {
      "text/plain": [
       "[0, 1, 2]"
      ]
     },
     "execution_count": 29,
     "metadata": {},
     "output_type": "execute_result"
    }
   ],
   "source": [
    "list5 [ :3]  #start to 3rd index"
   ]
  },
  {
   "cell_type": "code",
   "execution_count": 30,
   "id": "4ff8aa63",
   "metadata": {},
   "outputs": [],
   "source": [
    "# l[start:end:steps]"
   ]
  },
  {
   "cell_type": "code",
   "execution_count": 31,
   "id": "3d891435",
   "metadata": {},
   "outputs": [
    {
     "data": {
      "text/plain": [
       "[0, 2, 4, 6, 8]"
      ]
     },
     "execution_count": 31,
     "metadata": {},
     "output_type": "execute_result"
    }
   ],
   "source": [
    "list5[::2]"
   ]
  },
  {
   "cell_type": "code",
   "execution_count": 32,
   "id": "fae2d589",
   "metadata": {},
   "outputs": [
    {
     "name": "stdout",
     "output_type": "stream",
     "text": [
      "[29, 100, 102]\n"
     ]
    }
   ],
   "source": [
    "#   -10 -9 -8 -7 -6 -5 -4  -3  -2  -1\n",
    "l = [11,22,33,44,55,76,29,100,102,300]\n",
    "#    0  1  2  3  4  5  6   7   8  9\n",
    "\n",
    "print(l[-4:-1])"
   ]
  },
  {
   "cell_type": "code",
   "execution_count": 33,
   "id": "d82a681a",
   "metadata": {},
   "outputs": [
    {
     "name": "stdout",
     "output_type": "stream",
     "text": [
      "[300, 102, 100, 29, 76, 55, 44, 33, 22, 11]\n"
     ]
    }
   ],
   "source": [
    "print(l[::-1])  # reverse technique"
   ]
  },
  {
   "cell_type": "code",
   "execution_count": 34,
   "id": "5be148d1",
   "metadata": {},
   "outputs": [
    {
     "name": "stdout",
     "output_type": "stream",
     "text": [
      "[11, 22, 33, 44, 55, 76, 29, 100, 102, 300]\n"
     ]
    }
   ],
   "source": [
    "print(l[::1])"
   ]
  },
  {
   "cell_type": "code",
   "execution_count": 35,
   "id": "2e0eb9b9",
   "metadata": {},
   "outputs": [
    {
     "ename": "IndexError",
     "evalue": "list index out of range",
     "output_type": "error",
     "traceback": [
      "\u001b[1;31m---------------------------------------------------------------------------\u001b[0m",
      "\u001b[1;31mIndexError\u001b[0m                                Traceback (most recent call last)",
      "Cell \u001b[1;32mIn[35], line 5\u001b[0m\n\u001b[0;32m      2\u001b[0m l \u001b[38;5;241m=\u001b[39m [\u001b[38;5;241m11\u001b[39m,\u001b[38;5;241m22\u001b[39m,\u001b[38;5;241m33\u001b[39m,\u001b[38;5;241m44\u001b[39m,\u001b[38;5;241m55\u001b[39m,\u001b[38;5;241m76\u001b[39m,\u001b[38;5;241m29\u001b[39m,\u001b[38;5;241m100\u001b[39m,\u001b[38;5;241m102\u001b[39m,\u001b[38;5;241m300\u001b[39m]\n\u001b[0;32m      3\u001b[0m \u001b[38;5;66;03m#    0  1  2  3  4  5  6   7   8  9\u001b[39;00m\n\u001b[1;32m----> 5\u001b[0m \u001b[38;5;28mprint\u001b[39m(\u001b[43ml\u001b[49m\u001b[43m[\u001b[49m\u001b[38;5;241;43m15\u001b[39;49m\u001b[43m]\u001b[49m)\n",
      "\u001b[1;31mIndexError\u001b[0m: list index out of range"
     ]
    }
   ],
   "source": [
    "#   -10 -9 -8 -7 -6 -5 -4  -3  -2  -1\n",
    "l = [11,22,33,44,55,76,29,100,102,300]\n",
    "#    0  1  2  3  4  5  6   7   8  9\n",
    "\n",
    "print(l[15])"
   ]
  },
  {
   "cell_type": "code",
   "execution_count": 36,
   "id": "d55a0801",
   "metadata": {},
   "outputs": [
    {
     "name": "stdout",
     "output_type": "stream",
     "text": [
      "[]\n"
     ]
    }
   ],
   "source": [
    "#   -10 -9 -8 -7 -6 -5 -4  -3  -2  -1\n",
    "l = [11,22,33,44,55,76,29,100,102,300]\n",
    "#    0  1  2  3  4  5  6   7   8  9\n",
    "\n",
    "print(l[15:20])"
   ]
  },
  {
   "cell_type": "markdown",
   "id": "52a102de",
   "metadata": {},
   "source": [
    "### List Methods"
   ]
  },
  {
   "cell_type": "code",
   "execution_count": 37,
   "id": "a319f1c1",
   "metadata": {},
   "outputs": [
    {
     "name": "stdout",
     "output_type": "stream",
     "text": [
      "Help on class list in module builtins:\n",
      "\n",
      "class list(object)\n",
      " |  list(iterable=(), /)\n",
      " |  \n",
      " |  Built-in mutable sequence.\n",
      " |  \n",
      " |  If no argument is given, the constructor creates a new empty list.\n",
      " |  The argument must be an iterable if specified.\n",
      " |  \n",
      " |  Methods defined here:\n",
      " |  \n",
      " |  __add__(self, value, /)\n",
      " |      Return self+value.\n",
      " |  \n",
      " |  __contains__(self, key, /)\n",
      " |      Return key in self.\n",
      " |  \n",
      " |  __delitem__(self, key, /)\n",
      " |      Delete self[key].\n",
      " |  \n",
      " |  __eq__(self, value, /)\n",
      " |      Return self==value.\n",
      " |  \n",
      " |  __ge__(self, value, /)\n",
      " |      Return self>=value.\n",
      " |  \n",
      " |  __getattribute__(self, name, /)\n",
      " |      Return getattr(self, name).\n",
      " |  \n",
      " |  __getitem__(...)\n",
      " |      x.__getitem__(y) <==> x[y]\n",
      " |  \n",
      " |  __gt__(self, value, /)\n",
      " |      Return self>value.\n",
      " |  \n",
      " |  __iadd__(self, value, /)\n",
      " |      Implement self+=value.\n",
      " |  \n",
      " |  __imul__(self, value, /)\n",
      " |      Implement self*=value.\n",
      " |  \n",
      " |  __init__(self, /, *args, **kwargs)\n",
      " |      Initialize self.  See help(type(self)) for accurate signature.\n",
      " |  \n",
      " |  __iter__(self, /)\n",
      " |      Implement iter(self).\n",
      " |  \n",
      " |  __le__(self, value, /)\n",
      " |      Return self<=value.\n",
      " |  \n",
      " |  __len__(self, /)\n",
      " |      Return len(self).\n",
      " |  \n",
      " |  __lt__(self, value, /)\n",
      " |      Return self<value.\n",
      " |  \n",
      " |  __mul__(self, value, /)\n",
      " |      Return self*value.\n",
      " |  \n",
      " |  __ne__(self, value, /)\n",
      " |      Return self!=value.\n",
      " |  \n",
      " |  __repr__(self, /)\n",
      " |      Return repr(self).\n",
      " |  \n",
      " |  __reversed__(self, /)\n",
      " |      Return a reverse iterator over the list.\n",
      " |  \n",
      " |  __rmul__(self, value, /)\n",
      " |      Return value*self.\n",
      " |  \n",
      " |  __setitem__(self, key, value, /)\n",
      " |      Set self[key] to value.\n",
      " |  \n",
      " |  __sizeof__(self, /)\n",
      " |      Return the size of the list in memory, in bytes.\n",
      " |  \n",
      " |  append(self, object, /)\n",
      " |      Append object to the end of the list.\n",
      " |  \n",
      " |  clear(self, /)\n",
      " |      Remove all items from list.\n",
      " |  \n",
      " |  copy(self, /)\n",
      " |      Return a shallow copy of the list.\n",
      " |  \n",
      " |  count(self, value, /)\n",
      " |      Return number of occurrences of value.\n",
      " |  \n",
      " |  extend(self, iterable, /)\n",
      " |      Extend list by appending elements from the iterable.\n",
      " |  \n",
      " |  index(self, value, start=0, stop=9223372036854775807, /)\n",
      " |      Return first index of value.\n",
      " |      \n",
      " |      Raises ValueError if the value is not present.\n",
      " |  \n",
      " |  insert(self, index, object, /)\n",
      " |      Insert object before index.\n",
      " |  \n",
      " |  pop(self, index=-1, /)\n",
      " |      Remove and return item at index (default last).\n",
      " |      \n",
      " |      Raises IndexError if list is empty or index is out of range.\n",
      " |  \n",
      " |  remove(self, value, /)\n",
      " |      Remove first occurrence of value.\n",
      " |      \n",
      " |      Raises ValueError if the value is not present.\n",
      " |  \n",
      " |  reverse(self, /)\n",
      " |      Reverse *IN PLACE*.\n",
      " |  \n",
      " |  sort(self, /, *, key=None, reverse=False)\n",
      " |      Sort the list in ascending order and return None.\n",
      " |      \n",
      " |      The sort is in-place (i.e. the list itself is modified) and stable (i.e. the\n",
      " |      order of two equal elements is maintained).\n",
      " |      \n",
      " |      If a key function is given, apply it once to each list item and sort them,\n",
      " |      ascending or descending, according to their function values.\n",
      " |      \n",
      " |      The reverse flag can be set to sort in descending order.\n",
      " |  \n",
      " |  ----------------------------------------------------------------------\n",
      " |  Class methods defined here:\n",
      " |  \n",
      " |  __class_getitem__(...) from builtins.type\n",
      " |      See PEP 585\n",
      " |  \n",
      " |  ----------------------------------------------------------------------\n",
      " |  Static methods defined here:\n",
      " |  \n",
      " |  __new__(*args, **kwargs) from builtins.type\n",
      " |      Create and return a new object.  See help(type) for accurate signature.\n",
      " |  \n",
      " |  ----------------------------------------------------------------------\n",
      " |  Data and other attributes defined here:\n",
      " |  \n",
      " |  __hash__ = None\n",
      "\n"
     ]
    }
   ],
   "source": [
    "help(list)"
   ]
  },
  {
   "cell_type": "code",
   "execution_count": 60,
   "id": "9c0468c1",
   "metadata": {},
   "outputs": [
    {
     "data": {
      "text/plain": [
       "[1, 2, 3, 4, 5, 6, 7, 8]"
      ]
     },
     "execution_count": 60,
     "metadata": {},
     "output_type": "execute_result"
    }
   ],
   "source": [
    "lst = [1,2,3,4,5,6,7,8]\n",
    "lst"
   ]
  },
  {
   "cell_type": "code",
   "execution_count": 61,
   "id": "e2ffa3e3",
   "metadata": {},
   "outputs": [],
   "source": [
    "#append()"
   ]
  },
  {
   "cell_type": "code",
   "execution_count": 62,
   "id": "bcec1abb",
   "metadata": {},
   "outputs": [
    {
     "data": {
      "text/plain": [
       "[1, 2, 3, 4, 5, 6, 7, 8, '10']"
      ]
     },
     "execution_count": 62,
     "metadata": {},
     "output_type": "execute_result"
    }
   ],
   "source": [
    "#.append is used to add elements in the list\n",
    "lst.append(\"10\")\n",
    "lst"
   ]
  },
  {
   "cell_type": "code",
   "execution_count": 63,
   "id": "911d0a31",
   "metadata": {},
   "outputs": [],
   "source": [
    "lst.append([\"12,13\"]) #creates nested list"
   ]
  },
  {
   "cell_type": "code",
   "execution_count": 64,
   "id": "d3c3afc0",
   "metadata": {},
   "outputs": [
    {
     "data": {
      "text/plain": [
       "[1, 2, 3, 4, 5, 6, 7, 8, '10', ['12,13']]"
      ]
     },
     "execution_count": 64,
     "metadata": {},
     "output_type": "execute_result"
    }
   ],
   "source": [
    "lst"
   ]
  },
  {
   "cell_type": "code",
   "execution_count": 65,
   "id": "70d9fb1a",
   "metadata": {},
   "outputs": [
    {
     "data": {
      "text/plain": [
       "['12,13']"
      ]
     },
     "execution_count": 65,
     "metadata": {},
     "output_type": "execute_result"
    }
   ],
   "source": [
    "lst[9]"
   ]
  },
  {
   "cell_type": "code",
   "execution_count": 66,
   "id": "53e45159",
   "metadata": {},
   "outputs": [
    {
     "data": {
      "text/plain": [
       "'12,13'"
      ]
     },
     "execution_count": 66,
     "metadata": {},
     "output_type": "execute_result"
    }
   ],
   "source": [
    "lst[9][0]"
   ]
  },
  {
   "cell_type": "code",
   "execution_count": 67,
   "id": "18c2e933",
   "metadata": {},
   "outputs": [],
   "source": [
    "# insert()"
   ]
  },
  {
   "cell_type": "code",
   "execution_count": 68,
   "id": "991693c2",
   "metadata": {},
   "outputs": [
    {
     "data": {
      "text/plain": [
       "[1, 2, 15, 3, 4, 5, 6, 7, 8, '10', ['12,13']]"
      ]
     },
     "execution_count": 68,
     "metadata": {},
     "output_type": "execute_result"
    }
   ],
   "source": [
    "lst.insert(2,15)\n",
    "lst"
   ]
  },
  {
   "cell_type": "code",
   "execution_count": 69,
   "id": "351050d5",
   "metadata": {},
   "outputs": [],
   "source": [
    "#extend()"
   ]
  },
  {
   "cell_type": "code",
   "execution_count": 70,
   "id": "fa99fb90",
   "metadata": {},
   "outputs": [
    {
     "data": {
      "text/plain": [
       "[1, 2, 15, 3, 4, 5, 6, 7, 8, '10', ['12,13'], 20, 21]"
      ]
     },
     "execution_count": 70,
     "metadata": {},
     "output_type": "execute_result"
    }
   ],
   "source": [
    "lst.extend([20,21])\n",
    "lst"
   ]
  },
  {
   "cell_type": "code",
   "execution_count": 73,
   "id": "fe1dc900",
   "metadata": {},
   "outputs": [
    {
     "data": {
      "text/plain": [
       "[1,\n",
       " 2,\n",
       " 15,\n",
       " 3,\n",
       " 4,\n",
       " 5,\n",
       " 6,\n",
       " 7,\n",
       " 8,\n",
       " '10',\n",
       " ['12,13'],\n",
       " 20,\n",
       " 21,\n",
       " 1,\n",
       " 2,\n",
       " 15,\n",
       " 3,\n",
       " 4,\n",
       " 5,\n",
       " 6,\n",
       " 7,\n",
       " 8,\n",
       " '10',\n",
       " ['12,13'],\n",
       " 20,\n",
       " 21,\n",
       " 1,\n",
       " 2,\n",
       " 15,\n",
       " 3,\n",
       " 4,\n",
       " 5,\n",
       " 6,\n",
       " 7,\n",
       " 8,\n",
       " '10',\n",
       " ['12,13'],\n",
       " 20,\n",
       " 21,\n",
       " 1,\n",
       " 2,\n",
       " 15,\n",
       " 3,\n",
       " 4,\n",
       " 5,\n",
       " 6,\n",
       " 7,\n",
       " 8,\n",
       " '10',\n",
       " ['12,13'],\n",
       " 20,\n",
       " 21,\n",
       " 1,\n",
       " 2,\n",
       " 15,\n",
       " 3,\n",
       " 4,\n",
       " 5,\n",
       " 6,\n",
       " 7,\n",
       " 8,\n",
       " '10',\n",
       " ['12,13'],\n",
       " 20,\n",
       " 21]"
      ]
     },
     "execution_count": 73,
     "metadata": {},
     "output_type": "execute_result"
    }
   ],
   "source": [
    "lst*5"
   ]
  },
  {
   "cell_type": "code",
   "execution_count": 74,
   "id": "d709eda5",
   "metadata": {},
   "outputs": [
    {
     "data": {
      "text/plain": [
       "[1, 2, 3, 4, 5, 1, 2, 3, 4, 5, 1, 2, 3, 4, 5, 1, 2, 3, 4, 5, 1, 2, 3, 4, 5]"
      ]
     },
     "execution_count": 74,
     "metadata": {},
     "output_type": "execute_result"
    }
   ],
   "source": [
    "lst1 = [1,2,3,4,5]\n",
    "lst1*5"
   ]
  },
  {
   "cell_type": "code",
   "execution_count": 75,
   "id": "7598cd39",
   "metadata": {},
   "outputs": [],
   "source": [
    "#pop() "
   ]
  },
  {
   "cell_type": "code",
   "execution_count": 76,
   "id": "01d934ba",
   "metadata": {},
   "outputs": [
    {
     "data": {
      "text/plain": [
       "[1, 2, 15, 3, 4, 5, 6, 7, 8, '10', ['12,13'], 20]"
      ]
     },
     "execution_count": 76,
     "metadata": {},
     "output_type": "execute_result"
    }
   ],
   "source": [
    " lst.pop()\n",
    "lst"
   ]
  },
  {
   "cell_type": "code",
   "execution_count": 78,
   "id": "0f2ea3b3",
   "metadata": {},
   "outputs": [
    {
     "data": {
      "text/plain": [
       "[1, 2, 4, 5, 6, 7, 8, '10', ['12,13'], 20]"
      ]
     },
     "execution_count": 78,
     "metadata": {},
     "output_type": "execute_result"
    }
   ],
   "source": [
    "lst.pop(2)  \n",
    "lst"
   ]
  },
  {
   "cell_type": "markdown",
   "id": "2f4135c2",
   "metadata": {},
   "source": [
    "## SETS:"
   ]
  },
  {
   "cell_type": "markdown",
   "id": "45f0f24c",
   "metadata": {},
   "source": [
    "Set is an unordered collection data type that is iterable, mutable and has no duplicate elements. Python's set class represents the mathematical notion of a set. This is based on a data structure known as hash table."
   ]
  },
  {
   "cell_type": "code",
   "execution_count": 80,
   "id": "81c68e75",
   "metadata": {},
   "outputs": [
    {
     "name": "stdout",
     "output_type": "stream",
     "text": [
      "set()\n",
      "<class 'set'>\n"
     ]
    }
   ],
   "source": [
    "# Defining an empty set\n",
    "\n",
    "my_set = set()\n",
    "print(my_set)\n",
    "print(type(my_set))"
   ]
  },
  {
   "cell_type": "code",
   "execution_count": 81,
   "id": "8ab48495",
   "metadata": {},
   "outputs": [
    {
     "data": {
      "text/plain": [
       "dict"
      ]
     },
     "execution_count": 81,
     "metadata": {},
     "output_type": "execute_result"
    }
   ],
   "source": [
    "type ({})"
   ]
  },
  {
   "cell_type": "code",
   "execution_count": 82,
   "id": "53fbd9cd",
   "metadata": {},
   "outputs": [
    {
     "data": {
      "text/plain": [
       "set"
      ]
     },
     "execution_count": 82,
     "metadata": {},
     "output_type": "execute_result"
    }
   ],
   "source": [
    "type({1})"
   ]
  },
  {
   "cell_type": "code",
   "execution_count": 83,
   "id": "0e157a83",
   "metadata": {},
   "outputs": [
    {
     "name": "stdout",
     "output_type": "stream",
     "text": [
      "{1, 2, 3, 4, 5}\n"
     ]
    }
   ],
   "source": [
    "print(set([1,2,3,4,5,5]))"
   ]
  },
  {
   "cell_type": "code",
   "execution_count": 84,
   "id": "7b207626",
   "metadata": {},
   "outputs": [],
   "source": [
    "set_var = {1,2,3,4,5}"
   ]
  },
  {
   "cell_type": "code",
   "execution_count": 85,
   "id": "81b6cea7",
   "metadata": {},
   "outputs": [
    {
     "name": "stdout",
     "output_type": "stream",
     "text": [
      "{1, 2, 3, 4, 5}\n"
     ]
    },
    {
     "data": {
      "text/plain": [
       "set"
      ]
     },
     "execution_count": 85,
     "metadata": {},
     "output_type": "execute_result"
    }
   ],
   "source": [
    "print(set_var)\n",
    "type(set_var)"
   ]
  },
  {
   "cell_type": "code",
   "execution_count": 87,
   "id": "14a8925b",
   "metadata": {},
   "outputs": [
    {
     "ename": "TypeError",
     "evalue": "'set' object is not subscriptable",
     "output_type": "error",
     "traceback": [
      "\u001b[1;31m---------------------------------------------------------------------------\u001b[0m",
      "\u001b[1;31mTypeError\u001b[0m                                 Traceback (most recent call last)",
      "Cell \u001b[1;32mIn[87], line 1\u001b[0m\n\u001b[1;32m----> 1\u001b[0m \u001b[43mset_var\u001b[49m\u001b[43m[\u001b[49m\u001b[38;5;241;43m2\u001b[39;49m\u001b[43m]\u001b[49m\n",
      "\u001b[1;31mTypeError\u001b[0m: 'set' object is not subscriptable"
     ]
    }
   ],
   "source": [
    "set_var[2] # not subsriptable "
   ]
  },
  {
   "cell_type": "code",
   "execution_count": 88,
   "id": "93571b5a",
   "metadata": {},
   "outputs": [
    {
     "name": "stdout",
     "output_type": "stream",
     "text": [
      "1\n",
      "2\n",
      "3\n",
      "4\n",
      "5\n"
     ]
    }
   ],
   "source": [
    "# iterable\n",
    "for i in set_var:\n",
    "    print(i)"
   ]
  },
  {
   "cell_type": "code",
   "execution_count": 89,
   "id": "049763ea",
   "metadata": {},
   "outputs": [
    {
     "data": {
      "text/plain": [
       "{1, 2, 3, 4, 5, 10}"
      ]
     },
     "execution_count": 89,
     "metadata": {},
     "output_type": "execute_result"
    }
   ],
   "source": [
    "set_var.add(10)\n",
    "set_var"
   ]
  },
  {
   "cell_type": "code",
   "execution_count": 91,
   "id": "76553b6c",
   "metadata": {},
   "outputs": [
    {
     "data": {
      "text/plain": [
       "set()"
      ]
     },
     "execution_count": 91,
     "metadata": {},
     "output_type": "execute_result"
    }
   ],
   "source": [
    "set_var.clear()\n",
    "set_var"
   ]
  },
  {
   "cell_type": "code",
   "execution_count": 96,
   "id": "ac8f0d3d",
   "metadata": {},
   "outputs": [
    {
     "data": {
      "text/plain": [
       "{1, 3, 5, 7, 9}"
      ]
     },
     "execution_count": 96,
     "metadata": {},
     "output_type": "execute_result"
    }
   ],
   "source": [
    "set_var = set({9,1,5,7,3,9}) # in order\n",
    "set_var"
   ]
  },
  {
   "cell_type": "code",
   "execution_count": 100,
   "id": "ac6e95c6",
   "metadata": {},
   "outputs": [
    {
     "data": {
      "text/plain": [
       "{4, 5}"
      ]
     },
     "execution_count": 100,
     "metadata": {},
     "output_type": "execute_result"
    }
   ],
   "source": [
    "set_1 = {1,2,3,4,5}\n",
    "set_2 = {4,5,6,7,8}\n",
    "set_1.intersection(set_2)\n"
   ]
  },
  {
   "cell_type": "code",
   "execution_count": 101,
   "id": "edea9b99",
   "metadata": {},
   "outputs": [
    {
     "data": {
      "text/plain": [
       "{1, 2, 3, 4, 5}"
      ]
     },
     "execution_count": 101,
     "metadata": {},
     "output_type": "execute_result"
    }
   ],
   "source": [
    "set_1"
   ]
  },
  {
   "cell_type": "code",
   "execution_count": 102,
   "id": "180a8002",
   "metadata": {},
   "outputs": [],
   "source": [
    "set_1.intersection_update(set_2)"
   ]
  },
  {
   "cell_type": "code",
   "execution_count": null,
   "id": "e120eac1",
   "metadata": {},
   "outputs": [],
   "source": []
  }
 ],
 "metadata": {
  "kernelspec": {
   "display_name": "Python 3 (ipykernel)",
   "language": "python",
   "name": "python3"
  },
  "language_info": {
   "codemirror_mode": {
    "name": "ipython",
    "version": 3
   },
   "file_extension": ".py",
   "mimetype": "text/x-python",
   "name": "python",
   "nbconvert_exporter": "python",
   "pygments_lexer": "ipython3",
   "version": "3.10.9"
  }
 },
 "nbformat": 4,
 "nbformat_minor": 5
}
