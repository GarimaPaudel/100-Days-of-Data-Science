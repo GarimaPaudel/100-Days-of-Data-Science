{
 "cells": [
  {
   "cell_type": "markdown",
   "id": "437ad9a4",
   "metadata": {},
   "source": [
    "### Method Overriding\n",
    "- specific implementation for a method by subclass that is already defined in its superclass."
   ]
  },
  {
   "cell_type": "code",
   "execution_count": 1,
   "id": "7de7afa1",
   "metadata": {},
   "outputs": [
    {
     "name": "stdout",
     "output_type": "stream",
     "text": [
      "78.5\n"
     ]
    }
   ],
   "source": [
    "class Shape:\n",
    "    def area(self):\n",
    "        pass\n",
    "\n",
    "class Circle(Shape):\n",
    "    def __init__(self, radius):\n",
    "        self.radius = radius\n",
    "        \n",
    "    def area(self):\n",
    "        return 3.14 * self.radius**2\n",
    "\n",
    "circle = Circle(5)\n",
    "print(circle.area())"
   ]
  },
  {
   "cell_type": "markdown",
   "id": "2e7b4cd6",
   "metadata": {},
   "source": [
    "### Method Resolution Order(MRO)\n",
    "- Method Resolution Order determines the sequence in which classes are searched for a requested method. It follows the C3 linearization algorithm."
   ]
  },
  {
   "cell_type": "code",
   "execution_count": 2,
   "id": "38f9f94c",
   "metadata": {},
   "outputs": [
    {
     "name": "stdout",
     "output_type": "stream",
     "text": [
      "B\n"
     ]
    }
   ],
   "source": [
    "class A:\n",
    "    def show(self):\n",
    "        print(\"A\")\n",
    "\n",
    "class B(A):\n",
    "    def show(self):\n",
    "        print(\"B\")\n",
    "\n",
    "class C(A):\n",
    "    def show(self):\n",
    "        print(\"C\")\n",
    "\n",
    "class D (B , C):\n",
    "    pass\n",
    "\n",
    "d = D()\n",
    "d.show()\n"
   ]
  },
  {
   "cell_type": "markdown",
   "id": "e157b3c7",
   "metadata": {},
   "source": [
    "### Polymorphism\n",
    "- polymorphism means the same function name (but different signatures) being used for different types."
   ]
  },
  {
   "cell_type": "code",
   "execution_count": 3,
   "id": "b3d7c7d5",
   "metadata": {},
   "outputs": [
    {
     "name": "stdout",
     "output_type": "stream",
     "text": [
      "5\n",
      "3\n"
     ]
    }
   ],
   "source": [
    "# Inbuilt polymorphism functions:\n",
    "\n",
    "# len() being used for a string\n",
    "print(len(\"geeks\"))\n",
    " \n",
    "# len() being used for a list\n",
    "print(len([10, 20, 30]))"
   ]
  },
  {
   "cell_type": "code",
   "execution_count": 4,
   "id": "b0807548",
   "metadata": {},
   "outputs": [
    {
     "name": "stdout",
     "output_type": "stream",
     "text": [
      "New Delhi is the capital of India.\n",
      "Hindi is the most widely spoken language of India.\n",
      "India is a developing country.\n",
      "Washington, D.C. is the capital of USA.\n",
      "English is the primary language of USA.\n",
      "USA is a developed country.\n"
     ]
    }
   ],
   "source": [
    "# User defined polymorphism functions:\n",
    "\n",
    "class India():\n",
    "    \n",
    "    def capital(self):\n",
    "        print(\"New Delhi is the capital of India.\")\n",
    "\n",
    "    def language(self):\n",
    "        print(\"Hindi is the most widely spoken language of India.\")\n",
    "\n",
    "    def type(self):\n",
    "        print(\"India is a developing country.\")\n",
    "\n",
    "class USA():\n",
    "    def capital(self):\n",
    "        print(\"Washington, D.C. is the capital of USA.\")\n",
    "\n",
    "    def language(self):\n",
    "        print(\"English is the primary language of USA.\")\n",
    "\n",
    "    def type(self):\n",
    "        print(\"USA is a developed country.\")\n",
    "\n",
    "obj_ind = India()\n",
    "obj_usa = USA()\n",
    "for country in (obj_ind, obj_usa):\n",
    "    country.capital()\n",
    "    country.language()\n",
    "    country.type()\n"
   ]
  },
  {
   "cell_type": "code",
   "execution_count": 5,
   "id": "adc35a27",
   "metadata": {},
   "outputs": [
    {
     "name": "stdout",
     "output_type": "stream",
     "text": [
      "Chirp!\n",
      "Squawk!\n"
     ]
    }
   ],
   "source": [
    "class Bird:\n",
    "    def speak(self):\n",
    "        pass\n",
    "\n",
    "class Sparrow(Bird):\n",
    "    def speak(self):\n",
    "        return \"Chirp!\"\n",
    "\n",
    "class Parrot(Bird):\n",
    "    def speak(self):\n",
    "        return \"Squawk!\"\n",
    "\n",
    "def bird_sounds(bird):\n",
    "    print(bird.speak())\n",
    "\n",
    "sparrow = Sparrow()\n",
    "parrot = Parrot()\n",
    "\n",
    "bird_sounds(sparrow)  \n",
    "bird_sounds(parrot)   \n"
   ]
  },
  {
   "cell_type": "markdown",
   "id": "6d984eeb",
   "metadata": {},
   "source": [
    "### Duck Typing:\n",
    "- Duck typing is a concept where the type or class of an object is determined by its behavior (methods and properties) rather than its explicit type."
   ]
  },
  {
   "cell_type": "code",
   "execution_count": 6,
   "id": "bd8189c1",
   "metadata": {},
   "outputs": [
    {
     "name": "stdout",
     "output_type": "stream",
     "text": [
      "Quack!\n",
      "Hello!\n"
     ]
    }
   ],
   "source": [
    "class Duck:\n",
    "    def sound(self):\n",
    "        return \"Quack!\"\n",
    "\n",
    "class Human:\n",
    "    def sound(self):\n",
    "        return \"Hello!\"\n",
    "\n",
    "def make_sound(entity):\n",
    "    print(entity.sound())\n",
    "\n",
    "duck = Duck()\n",
    "human = Human()\n",
    "\n",
    "make_sound(duck)   \n",
    "make_sound(human)  \n"
   ]
  },
  {
   "cell_type": "markdown",
   "id": "8e97241d",
   "metadata": {},
   "source": [
    "### Encapsulation:\n",
    "- It describes the idea of wrapping data and the methods that work on data within one unit."
   ]
  },
  {
   "cell_type": "code",
   "execution_count": 7,
   "id": "632bbc0d",
   "metadata": {},
   "outputs": [
    {
     "name": "stdout",
     "output_type": "stream",
     "text": [
      "500\n"
     ]
    }
   ],
   "source": [
    "class BankAccount:\n",
    "    def __init__(self):\n",
    "        self.balance = 0\n",
    "\n",
    "    def deposit(self, amount):\n",
    "        self.balance += amount\n",
    "\n",
    "    def withdraw(self, amount):\n",
    "        if amount <= self.balance:\n",
    "            self.balance -= amount\n",
    "        else:\n",
    "            print(\"Insufficient funds\")\n",
    "\n",
    "account = BankAccount()\n",
    "account.deposit(1000)\n",
    "account.withdraw(500)\n",
    "print(account.balance)  \n"
   ]
  },
  {
   "cell_type": "code",
   "execution_count": 8,
   "id": "2da803ba",
   "metadata": {},
   "outputs": [
    {
     "name": "stdout",
     "output_type": "stream",
     "text": [
      "Account Holder: Alice, Balance: Rs. 1000\n",
      "Deposited Rs. 500. New balance: Rs. 1500\n",
      "Withdrew Rs. 300. New balance: Rs. 1200\n",
      "Account Holder: Alice, Balance: Rs. 1200\n"
     ]
    }
   ],
   "source": [
    "class BankAccount:\n",
    "    def __init__(self, account_holder, balance=0):\n",
    "        self.account_holder = account_holder\n",
    "        self.__balance = balance  # Private attribute\n",
    "\n",
    "    def deposit(self, amount):\n",
    "        if amount > 0:\n",
    "            self.__balance += amount\n",
    "            print(f\"Deposited Rs. {amount}. New balance: Rs. {self.__balance}\")\n",
    "        else:\n",
    "            print(\"Invalid amount for deposit.\")\n",
    "\n",
    "    def withdraw(self, amount):\n",
    "        if 0 < amount <= self.__balance:\n",
    "            self.__balance -= amount\n",
    "            print(f\"Withdrew Rs. {amount}. New balance: Rs. {self.__balance}\")\n",
    "        else:\n",
    "            print(\"Insufficient funds or invalid amount for withdrawal.\")\n",
    "\n",
    "    def get_balance(self):\n",
    "        return self.__balance\n",
    "\n",
    "    def display_info(self):\n",
    "        print(f\"Account Holder: {self.account_holder}, Balance: Rs. {self.__balance}\")\n",
    "\n",
    "account = BankAccount(\"Alice\", 1000)\n",
    "\n",
    "\n",
    "account.display_info()\n",
    "account.deposit(500)\n",
    "account.withdraw(300)\n",
    "account.display_info()\n"
   ]
  },
  {
   "cell_type": "code",
   "execution_count": null,
   "id": "7e77cef9",
   "metadata": {},
   "outputs": [],
   "source": []
  }
 ],
 "metadata": {
  "kernelspec": {
   "display_name": "Python 3 (ipykernel)",
   "language": "python",
   "name": "python3"
  },
  "language_info": {
   "codemirror_mode": {
    "name": "ipython",
    "version": 3
   },
   "file_extension": ".py",
   "mimetype": "text/x-python",
   "name": "python",
   "nbconvert_exporter": "python",
   "pygments_lexer": "ipython3",
   "version": "3.10.9"
  }
 },
 "nbformat": 4,
 "nbformat_minor": 5
}
